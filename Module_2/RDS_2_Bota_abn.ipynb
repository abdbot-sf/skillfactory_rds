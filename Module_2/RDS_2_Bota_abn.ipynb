{
 "cells": [
  {
   "cell_type": "code",
   "execution_count": 101,
   "metadata": {},
   "outputs": [],
   "source": [
    "import pandas as pd\n",
    "import matplotlib.pyplot as plt\n",
    "import seaborn as sns\n",
    "from itertools import combinations\n",
    "from scipy.stats import ttest_ind\n",
    "import numpy as np \n",
    "pd.set_option('display.max_rows', 50) # показывать больше строк\n",
    "pd.set_option('display.max_columns', 50) # показывать больше колонок\n",
    "\n",
    "stud_math = pd.read_excel('stud_math.xlsx')"
   ]
  },
  {
   "cell_type": "code",
   "execution_count": 102,
   "metadata": {},
   "outputs": [
    {
     "data": {
      "text/html": [
       "<div>\n",
       "<style scoped>\n",
       "    .dataframe tbody tr th:only-of-type {\n",
       "        vertical-align: middle;\n",
       "    }\n",
       "\n",
       "    .dataframe tbody tr th {\n",
       "        vertical-align: top;\n",
       "    }\n",
       "\n",
       "    .dataframe thead th {\n",
       "        text-align: right;\n",
       "    }\n",
       "</style>\n",
       "<table border=\"1\" class=\"dataframe\">\n",
       "  <thead>\n",
       "    <tr style=\"text-align: right;\">\n",
       "      <th></th>\n",
       "      <th>school</th>\n",
       "      <th>sex</th>\n",
       "      <th>age</th>\n",
       "      <th>address</th>\n",
       "      <th>famsize</th>\n",
       "      <th>Pstatus</th>\n",
       "      <th>Medu</th>\n",
       "      <th>Fedu</th>\n",
       "      <th>кол-во</th>\n",
       "      <th>Mjob</th>\n",
       "      <th>Fjob</th>\n",
       "      <th>reason</th>\n",
       "      <th>guardian</th>\n",
       "      <th>traveltime</th>\n",
       "      <th>studytime</th>\n",
       "      <th>failures</th>\n",
       "      <th>schoolsup</th>\n",
       "      <th>famsup</th>\n",
       "      <th>paid</th>\n",
       "      <th>activities</th>\n",
       "      <th>nursery</th>\n",
       "      <th>studytime, granular</th>\n",
       "      <th>higher</th>\n",
       "      <th>internet</th>\n",
       "      <th>romantic</th>\n",
       "      <th>famrel</th>\n",
       "      <th>freetime</th>\n",
       "      <th>goout</th>\n",
       "      <th>health</th>\n",
       "      <th>absences</th>\n",
       "      <th>score</th>\n",
       "    </tr>\n",
       "  </thead>\n",
       "  <tbody>\n",
       "    <tr>\n",
       "      <td>0</td>\n",
       "      <td>GP</td>\n",
       "      <td>F</td>\n",
       "      <td>18</td>\n",
       "      <td>U</td>\n",
       "      <td>NaN</td>\n",
       "      <td>A</td>\n",
       "      <td>4.0</td>\n",
       "      <td>4.0</td>\n",
       "      <td>1</td>\n",
       "      <td>at_home</td>\n",
       "      <td>teacher</td>\n",
       "      <td>course</td>\n",
       "      <td>mother</td>\n",
       "      <td>2.0</td>\n",
       "      <td>2.0</td>\n",
       "      <td>0.0</td>\n",
       "      <td>yes</td>\n",
       "      <td>no</td>\n",
       "      <td>no</td>\n",
       "      <td>no</td>\n",
       "      <td>yes</td>\n",
       "      <td>-6.0</td>\n",
       "      <td>yes</td>\n",
       "      <td>NaN</td>\n",
       "      <td>no</td>\n",
       "      <td>4.0</td>\n",
       "      <td>3.0</td>\n",
       "      <td>4.0</td>\n",
       "      <td>3.0</td>\n",
       "      <td>6.0</td>\n",
       "      <td>30.0</td>\n",
       "    </tr>\n",
       "    <tr>\n",
       "      <td>1</td>\n",
       "      <td>GP</td>\n",
       "      <td>F</td>\n",
       "      <td>17</td>\n",
       "      <td>U</td>\n",
       "      <td>GT3</td>\n",
       "      <td>NaN</td>\n",
       "      <td>1.0</td>\n",
       "      <td>1.0</td>\n",
       "      <td>1</td>\n",
       "      <td>at_home</td>\n",
       "      <td>other</td>\n",
       "      <td>course</td>\n",
       "      <td>father</td>\n",
       "      <td>1.0</td>\n",
       "      <td>2.0</td>\n",
       "      <td>0.0</td>\n",
       "      <td>no</td>\n",
       "      <td>yes</td>\n",
       "      <td>no</td>\n",
       "      <td>no</td>\n",
       "      <td>no</td>\n",
       "      <td>-6.0</td>\n",
       "      <td>yes</td>\n",
       "      <td>yes</td>\n",
       "      <td>no</td>\n",
       "      <td>5.0</td>\n",
       "      <td>3.0</td>\n",
       "      <td>3.0</td>\n",
       "      <td>3.0</td>\n",
       "      <td>4.0</td>\n",
       "      <td>30.0</td>\n",
       "    </tr>\n",
       "    <tr>\n",
       "      <td>2</td>\n",
       "      <td>GP</td>\n",
       "      <td>F</td>\n",
       "      <td>15</td>\n",
       "      <td>U</td>\n",
       "      <td>LE3</td>\n",
       "      <td>T</td>\n",
       "      <td>1.0</td>\n",
       "      <td>1.0</td>\n",
       "      <td>1</td>\n",
       "      <td>at_home</td>\n",
       "      <td>other</td>\n",
       "      <td>other</td>\n",
       "      <td>mother</td>\n",
       "      <td>1.0</td>\n",
       "      <td>2.0</td>\n",
       "      <td>3.0</td>\n",
       "      <td>yes</td>\n",
       "      <td>no</td>\n",
       "      <td>NaN</td>\n",
       "      <td>no</td>\n",
       "      <td>yes</td>\n",
       "      <td>-6.0</td>\n",
       "      <td>yes</td>\n",
       "      <td>yes</td>\n",
       "      <td>NaN</td>\n",
       "      <td>4.0</td>\n",
       "      <td>3.0</td>\n",
       "      <td>2.0</td>\n",
       "      <td>3.0</td>\n",
       "      <td>10.0</td>\n",
       "      <td>50.0</td>\n",
       "    </tr>\n",
       "    <tr>\n",
       "      <td>3</td>\n",
       "      <td>GP</td>\n",
       "      <td>F</td>\n",
       "      <td>15</td>\n",
       "      <td>U</td>\n",
       "      <td>GT3</td>\n",
       "      <td>T</td>\n",
       "      <td>4.0</td>\n",
       "      <td>2.0</td>\n",
       "      <td>1</td>\n",
       "      <td>health</td>\n",
       "      <td>NaN</td>\n",
       "      <td>home</td>\n",
       "      <td>mother</td>\n",
       "      <td>1.0</td>\n",
       "      <td>3.0</td>\n",
       "      <td>0.0</td>\n",
       "      <td>no</td>\n",
       "      <td>yes</td>\n",
       "      <td>yes</td>\n",
       "      <td>yes</td>\n",
       "      <td>yes</td>\n",
       "      <td>-9.0</td>\n",
       "      <td>yes</td>\n",
       "      <td>yes</td>\n",
       "      <td>yes</td>\n",
       "      <td>3.0</td>\n",
       "      <td>2.0</td>\n",
       "      <td>2.0</td>\n",
       "      <td>5.0</td>\n",
       "      <td>2.0</td>\n",
       "      <td>75.0</td>\n",
       "    </tr>\n",
       "    <tr>\n",
       "      <td>4</td>\n",
       "      <td>GP</td>\n",
       "      <td>F</td>\n",
       "      <td>16</td>\n",
       "      <td>U</td>\n",
       "      <td>GT3</td>\n",
       "      <td>T</td>\n",
       "      <td>3.0</td>\n",
       "      <td>3.0</td>\n",
       "      <td>1</td>\n",
       "      <td>other</td>\n",
       "      <td>other</td>\n",
       "      <td>home</td>\n",
       "      <td>father</td>\n",
       "      <td>1.0</td>\n",
       "      <td>2.0</td>\n",
       "      <td>0.0</td>\n",
       "      <td>no</td>\n",
       "      <td>yes</td>\n",
       "      <td>yes</td>\n",
       "      <td>no</td>\n",
       "      <td>yes</td>\n",
       "      <td>-6.0</td>\n",
       "      <td>yes</td>\n",
       "      <td>no</td>\n",
       "      <td>no</td>\n",
       "      <td>4.0</td>\n",
       "      <td>3.0</td>\n",
       "      <td>2.0</td>\n",
       "      <td>5.0</td>\n",
       "      <td>4.0</td>\n",
       "      <td>50.0</td>\n",
       "    </tr>\n",
       "    <tr>\n",
       "      <td>5</td>\n",
       "      <td>GP</td>\n",
       "      <td>M</td>\n",
       "      <td>16</td>\n",
       "      <td>U</td>\n",
       "      <td>LE3</td>\n",
       "      <td>T</td>\n",
       "      <td>4.0</td>\n",
       "      <td>3.0</td>\n",
       "      <td>1</td>\n",
       "      <td>services</td>\n",
       "      <td>other</td>\n",
       "      <td>reputation</td>\n",
       "      <td>mother</td>\n",
       "      <td>1.0</td>\n",
       "      <td>2.0</td>\n",
       "      <td>0.0</td>\n",
       "      <td>no</td>\n",
       "      <td>yes</td>\n",
       "      <td>yes</td>\n",
       "      <td>yes</td>\n",
       "      <td>yes</td>\n",
       "      <td>-6.0</td>\n",
       "      <td>yes</td>\n",
       "      <td>yes</td>\n",
       "      <td>no</td>\n",
       "      <td>5.0</td>\n",
       "      <td>4.0</td>\n",
       "      <td>2.0</td>\n",
       "      <td>5.0</td>\n",
       "      <td>10.0</td>\n",
       "      <td>75.0</td>\n",
       "    </tr>\n",
       "    <tr>\n",
       "      <td>6</td>\n",
       "      <td>GP</td>\n",
       "      <td>M</td>\n",
       "      <td>16</td>\n",
       "      <td>NaN</td>\n",
       "      <td>LE3</td>\n",
       "      <td>T</td>\n",
       "      <td>2.0</td>\n",
       "      <td>2.0</td>\n",
       "      <td>1</td>\n",
       "      <td>other</td>\n",
       "      <td>other</td>\n",
       "      <td>home</td>\n",
       "      <td>mother</td>\n",
       "      <td>1.0</td>\n",
       "      <td>2.0</td>\n",
       "      <td>0.0</td>\n",
       "      <td>no</td>\n",
       "      <td>no</td>\n",
       "      <td>no</td>\n",
       "      <td>no</td>\n",
       "      <td>yes</td>\n",
       "      <td>-6.0</td>\n",
       "      <td>yes</td>\n",
       "      <td>yes</td>\n",
       "      <td>no</td>\n",
       "      <td>4.0</td>\n",
       "      <td>4.0</td>\n",
       "      <td>4.0</td>\n",
       "      <td>3.0</td>\n",
       "      <td>0.0</td>\n",
       "      <td>55.0</td>\n",
       "    </tr>\n",
       "    <tr>\n",
       "      <td>7</td>\n",
       "      <td>GP</td>\n",
       "      <td>F</td>\n",
       "      <td>17</td>\n",
       "      <td>U</td>\n",
       "      <td>GT3</td>\n",
       "      <td>A</td>\n",
       "      <td>4.0</td>\n",
       "      <td>4.0</td>\n",
       "      <td>1</td>\n",
       "      <td>other</td>\n",
       "      <td>teacher</td>\n",
       "      <td>home</td>\n",
       "      <td>mother</td>\n",
       "      <td>2.0</td>\n",
       "      <td>2.0</td>\n",
       "      <td>0.0</td>\n",
       "      <td>yes</td>\n",
       "      <td>yes</td>\n",
       "      <td>no</td>\n",
       "      <td>no</td>\n",
       "      <td>yes</td>\n",
       "      <td>-6.0</td>\n",
       "      <td>yes</td>\n",
       "      <td>no</td>\n",
       "      <td>no</td>\n",
       "      <td>4.0</td>\n",
       "      <td>1.0</td>\n",
       "      <td>4.0</td>\n",
       "      <td>1.0</td>\n",
       "      <td>6.0</td>\n",
       "      <td>30.0</td>\n",
       "    </tr>\n",
       "    <tr>\n",
       "      <td>8</td>\n",
       "      <td>GP</td>\n",
       "      <td>M</td>\n",
       "      <td>15</td>\n",
       "      <td>U</td>\n",
       "      <td>LE3</td>\n",
       "      <td>A</td>\n",
       "      <td>3.0</td>\n",
       "      <td>2.0</td>\n",
       "      <td>1</td>\n",
       "      <td>services</td>\n",
       "      <td>other</td>\n",
       "      <td>home</td>\n",
       "      <td>mother</td>\n",
       "      <td>1.0</td>\n",
       "      <td>2.0</td>\n",
       "      <td>0.0</td>\n",
       "      <td>no</td>\n",
       "      <td>yes</td>\n",
       "      <td>yes</td>\n",
       "      <td>no</td>\n",
       "      <td>yes</td>\n",
       "      <td>-6.0</td>\n",
       "      <td>yes</td>\n",
       "      <td>yes</td>\n",
       "      <td>no</td>\n",
       "      <td>NaN</td>\n",
       "      <td>2.0</td>\n",
       "      <td>2.0</td>\n",
       "      <td>1.0</td>\n",
       "      <td>0.0</td>\n",
       "      <td>95.0</td>\n",
       "    </tr>\n",
       "    <tr>\n",
       "      <td>9</td>\n",
       "      <td>GP</td>\n",
       "      <td>M</td>\n",
       "      <td>15</td>\n",
       "      <td>U</td>\n",
       "      <td>NaN</td>\n",
       "      <td>NaN</td>\n",
       "      <td>3.0</td>\n",
       "      <td>4.0</td>\n",
       "      <td>1</td>\n",
       "      <td>other</td>\n",
       "      <td>other</td>\n",
       "      <td>home</td>\n",
       "      <td>mother</td>\n",
       "      <td>1.0</td>\n",
       "      <td>2.0</td>\n",
       "      <td>0.0</td>\n",
       "      <td>no</td>\n",
       "      <td>yes</td>\n",
       "      <td>yes</td>\n",
       "      <td>yes</td>\n",
       "      <td>yes</td>\n",
       "      <td>-6.0</td>\n",
       "      <td>yes</td>\n",
       "      <td>yes</td>\n",
       "      <td>no</td>\n",
       "      <td>5.0</td>\n",
       "      <td>5.0</td>\n",
       "      <td>1.0</td>\n",
       "      <td>5.0</td>\n",
       "      <td>0.0</td>\n",
       "      <td>75.0</td>\n",
       "    </tr>\n",
       "  </tbody>\n",
       "</table>\n",
       "</div>"
      ],
      "text/plain": [
       "  school sex  age address famsize Pstatus  Medu  Fedu  кол-во      Mjob  \\\n",
       "0     GP   F   18       U     NaN       A   4.0   4.0       1   at_home   \n",
       "1     GP   F   17       U     GT3     NaN   1.0   1.0       1   at_home   \n",
       "2     GP   F   15       U     LE3       T   1.0   1.0       1   at_home   \n",
       "3     GP   F   15       U     GT3       T   4.0   2.0       1    health   \n",
       "4     GP   F   16       U     GT3       T   3.0   3.0       1     other   \n",
       "5     GP   M   16       U     LE3       T   4.0   3.0       1  services   \n",
       "6     GP   M   16     NaN     LE3       T   2.0   2.0       1     other   \n",
       "7     GP   F   17       U     GT3       A   4.0   4.0       1     other   \n",
       "8     GP   M   15       U     LE3       A   3.0   2.0       1  services   \n",
       "9     GP   M   15       U     NaN     NaN   3.0   4.0       1     other   \n",
       "\n",
       "      Fjob      reason guardian  traveltime  studytime  failures schoolsup  \\\n",
       "0  teacher      course   mother         2.0        2.0       0.0       yes   \n",
       "1    other      course   father         1.0        2.0       0.0        no   \n",
       "2    other       other   mother         1.0        2.0       3.0       yes   \n",
       "3      NaN        home   mother         1.0        3.0       0.0        no   \n",
       "4    other        home   father         1.0        2.0       0.0        no   \n",
       "5    other  reputation   mother         1.0        2.0       0.0        no   \n",
       "6    other        home   mother         1.0        2.0       0.0        no   \n",
       "7  teacher        home   mother         2.0        2.0       0.0       yes   \n",
       "8    other        home   mother         1.0        2.0       0.0        no   \n",
       "9    other        home   mother         1.0        2.0       0.0        no   \n",
       "\n",
       "  famsup paid activities nursery  studytime, granular higher internet  \\\n",
       "0     no   no         no     yes                 -6.0    yes      NaN   \n",
       "1    yes   no         no      no                 -6.0    yes      yes   \n",
       "2     no  NaN         no     yes                 -6.0    yes      yes   \n",
       "3    yes  yes        yes     yes                 -9.0    yes      yes   \n",
       "4    yes  yes         no     yes                 -6.0    yes       no   \n",
       "5    yes  yes        yes     yes                 -6.0    yes      yes   \n",
       "6     no   no         no     yes                 -6.0    yes      yes   \n",
       "7    yes   no         no     yes                 -6.0    yes       no   \n",
       "8    yes  yes         no     yes                 -6.0    yes      yes   \n",
       "9    yes  yes        yes     yes                 -6.0    yes      yes   \n",
       "\n",
       "  romantic  famrel  freetime  goout  health  absences  score  \n",
       "0       no     4.0       3.0    4.0     3.0       6.0   30.0  \n",
       "1       no     5.0       3.0    3.0     3.0       4.0   30.0  \n",
       "2      NaN     4.0       3.0    2.0     3.0      10.0   50.0  \n",
       "3      yes     3.0       2.0    2.0     5.0       2.0   75.0  \n",
       "4       no     4.0       3.0    2.0     5.0       4.0   50.0  \n",
       "5       no     5.0       4.0    2.0     5.0      10.0   75.0  \n",
       "6       no     4.0       4.0    4.0     3.0       0.0   55.0  \n",
       "7       no     4.0       1.0    4.0     1.0       6.0   30.0  \n",
       "8       no     NaN       2.0    2.0     1.0       0.0   95.0  \n",
       "9       no     5.0       5.0    1.0     5.0       0.0   75.0  "
      ]
     },
     "metadata": {},
     "output_type": "display_data"
    },
    {
     "name": "stdout",
     "output_type": "stream",
     "text": [
      "<class 'pandas.core.frame.DataFrame'>\n",
      "RangeIndex: 395 entries, 0 to 394\n",
      "Data columns (total 31 columns):\n",
      "school                 395 non-null object\n",
      "sex                    395 non-null object\n",
      "age                    395 non-null int64\n",
      "address                378 non-null object\n",
      "famsize                368 non-null object\n",
      "Pstatus                350 non-null object\n",
      "Medu                   392 non-null float64\n",
      "Fedu                   371 non-null float64\n",
      "кол-во                 395 non-null int64\n",
      "Mjob                   376 non-null object\n",
      "Fjob                   359 non-null object\n",
      "reason                 378 non-null object\n",
      "guardian               364 non-null object\n",
      "traveltime             367 non-null float64\n",
      "studytime              387 non-null float64\n",
      "failures               373 non-null float64\n",
      "schoolsup              386 non-null object\n",
      "famsup                 356 non-null object\n",
      "paid                   355 non-null object\n",
      "activities             381 non-null object\n",
      "nursery                379 non-null object\n",
      "studytime, granular    388 non-null float64\n",
      "higher                 375 non-null object\n",
      "internet               361 non-null object\n",
      "romantic               364 non-null object\n",
      "famrel                 368 non-null float64\n",
      "freetime               384 non-null float64\n",
      "goout                  387 non-null float64\n",
      "health                 380 non-null float64\n",
      "absences               383 non-null float64\n",
      "score                  389 non-null float64\n",
      "dtypes: float64(12), int64(2), object(17)\n",
      "memory usage: 95.8+ KB\n"
     ]
    }
   ],
   "source": [
    "display(stud_math.head(10))\n",
    "stud_math.info()"
   ]
  },
  {
   "cell_type": "markdown",
   "metadata": {},
   "source": [
    "# Первичная обработка данных"
   ]
  },
  {
   "cell_type": "code",
   "execution_count": 103,
   "metadata": {},
   "outputs": [],
   "source": [
    "#создаем унииверсальные функции:\n",
    "\n",
    "def info_columns(column):#по каждой колонке в таблице выведем уникальные значения и количество пропусков\n",
    "    print('Уникальные значения:','\\n',column.value_counts(),'\\n',\n",
    "          'Пустые значения (кол-во):',column.isnull().sum(),'\\n',\n",
    "          'Пустые значения (%):',round(column.isnull().sum()/column.isnull().count()*100,1))\n",
    "\n",
    "def show_histo(column):#построим гистограмму для определенной колонки\n",
    "    fig, ax = plt.subplots(figsize = (13,4))\n",
    "    column.hist()\n",
    "    plt.show()\n",
    "    \n",
    "def get_boxplot(column): #построим диаграмму размаха с \"усами\" для определенной колонки\n",
    "    fig,ax=plt.subplots(figsize=(13,4))\n",
    "    sns.boxplot(x=column,y='score', data=stud_math)\n",
    "    plt.show\n",
    "\n",
    "def limits(column):#определяем перцентили и границы выбросов для определенной колонки\n",
    "    perc25 = column.quantile(0.25)\n",
    "    perc75 = column.quantile(0.75)\n",
    "    IQR = perc75 - perc25\n",
    "    low = perc25 - 1.5*IQR\n",
    "    up = perc75 + 1.5*IQR\n",
    "    print('25-й перцентиль: {},'.format(perc25), '75-й перцентиль: {},'.format(perc75)\n",
    "      , \"IQR: {}, \".format(IQR),\"Границы выбросов: [{}, {}].\".format(low,up))\n",
    "    for i in column:\n",
    "        if i <= low or i >= up:\n",
    "            print('Имеются выбросы')\n",
    "            break\n",
    "            \n",
    "def get_stat_dif(column):#определяем колонки с статистически значимыми отклонениями\n",
    "    cols = stud_math.loc[:, column].value_counts().index[:10]\n",
    "    combinations_all = list(combinations(cols, 2))\n",
    "    for comb in combinations_all:\n",
    "        if ttest_ind(stud_math.loc[stud_math.loc[:, column] == comb[0], 'score'], \n",
    "                        stud_math.loc[stud_math.loc[:, column] == comb[1], 'score']).pvalue \\\n",
    "            <= 0.05/len(combinations_all): # Учли поправку Бонферони\n",
    "            print('Найдены статистически значимые различия для колонки', column)\n",
    "            break"
   ]
  },
  {
   "cell_type": "code",
   "execution_count": 104,
   "metadata": {},
   "outputs": [
    {
     "data": {
      "text/html": [
       "<div>\n",
       "<style scoped>\n",
       "    .dataframe tbody tr th:only-of-type {\n",
       "        vertical-align: middle;\n",
       "    }\n",
       "\n",
       "    .dataframe tbody tr th {\n",
       "        vertical-align: top;\n",
       "    }\n",
       "\n",
       "    .dataframe thead th {\n",
       "        text-align: right;\n",
       "    }\n",
       "</style>\n",
       "<table border=\"1\" class=\"dataframe\">\n",
       "  <thead>\n",
       "    <tr style=\"text-align: right;\">\n",
       "      <th></th>\n",
       "      <th>school_number</th>\n",
       "      <th>sex_male</th>\n",
       "      <th>age</th>\n",
       "      <th>urbanite</th>\n",
       "      <th>famsize_more3</th>\n",
       "      <th>Pstatus_together</th>\n",
       "      <th>Medu</th>\n",
       "      <th>Fedu</th>\n",
       "      <th>кол-во</th>\n",
       "      <th>Mjob</th>\n",
       "      <th>Fjob</th>\n",
       "      <th>reason</th>\n",
       "      <th>guardian</th>\n",
       "      <th>traveltime</th>\n",
       "      <th>studytime</th>\n",
       "      <th>failures</th>\n",
       "      <th>schoolsup</th>\n",
       "      <th>famsup</th>\n",
       "      <th>paid</th>\n",
       "      <th>activities</th>\n",
       "      <th>nursery</th>\n",
       "      <th>granular_studytime</th>\n",
       "      <th>higher</th>\n",
       "      <th>internet</th>\n",
       "      <th>romantic</th>\n",
       "      <th>famrel</th>\n",
       "      <th>freetime</th>\n",
       "      <th>goout</th>\n",
       "      <th>health</th>\n",
       "      <th>absences</th>\n",
       "      <th>score</th>\n",
       "    </tr>\n",
       "  </thead>\n",
       "  <tbody>\n",
       "    <tr>\n",
       "      <td>0</td>\n",
       "      <td>1</td>\n",
       "      <td>0</td>\n",
       "      <td>18</td>\n",
       "      <td>1.0</td>\n",
       "      <td>NaN</td>\n",
       "      <td>0.0</td>\n",
       "      <td>4.0</td>\n",
       "      <td>4.0</td>\n",
       "      <td>1</td>\n",
       "      <td>4.0</td>\n",
       "      <td>1.0</td>\n",
       "      <td>3.0</td>\n",
       "      <td>1.0</td>\n",
       "      <td>2.0</td>\n",
       "      <td>2.0</td>\n",
       "      <td>0.0</td>\n",
       "      <td>1.0</td>\n",
       "      <td>0.0</td>\n",
       "      <td>0.0</td>\n",
       "      <td>0.0</td>\n",
       "      <td>1.0</td>\n",
       "      <td>-6.0</td>\n",
       "      <td>1.0</td>\n",
       "      <td>NaN</td>\n",
       "      <td>0.0</td>\n",
       "      <td>4.0</td>\n",
       "      <td>3.0</td>\n",
       "      <td>4.0</td>\n",
       "      <td>3.0</td>\n",
       "      <td>6.0</td>\n",
       "      <td>30.0</td>\n",
       "    </tr>\n",
       "    <tr>\n",
       "      <td>1</td>\n",
       "      <td>1</td>\n",
       "      <td>0</td>\n",
       "      <td>17</td>\n",
       "      <td>1.0</td>\n",
       "      <td>1.0</td>\n",
       "      <td>NaN</td>\n",
       "      <td>1.0</td>\n",
       "      <td>1.0</td>\n",
       "      <td>1</td>\n",
       "      <td>4.0</td>\n",
       "      <td>5.0</td>\n",
       "      <td>3.0</td>\n",
       "      <td>2.0</td>\n",
       "      <td>1.0</td>\n",
       "      <td>2.0</td>\n",
       "      <td>0.0</td>\n",
       "      <td>0.0</td>\n",
       "      <td>1.0</td>\n",
       "      <td>0.0</td>\n",
       "      <td>0.0</td>\n",
       "      <td>0.0</td>\n",
       "      <td>-6.0</td>\n",
       "      <td>1.0</td>\n",
       "      <td>1.0</td>\n",
       "      <td>0.0</td>\n",
       "      <td>5.0</td>\n",
       "      <td>3.0</td>\n",
       "      <td>3.0</td>\n",
       "      <td>3.0</td>\n",
       "      <td>4.0</td>\n",
       "      <td>30.0</td>\n",
       "    </tr>\n",
       "    <tr>\n",
       "      <td>2</td>\n",
       "      <td>1</td>\n",
       "      <td>0</td>\n",
       "      <td>15</td>\n",
       "      <td>1.0</td>\n",
       "      <td>0.0</td>\n",
       "      <td>1.0</td>\n",
       "      <td>1.0</td>\n",
       "      <td>1.0</td>\n",
       "      <td>1</td>\n",
       "      <td>4.0</td>\n",
       "      <td>5.0</td>\n",
       "      <td>4.0</td>\n",
       "      <td>1.0</td>\n",
       "      <td>1.0</td>\n",
       "      <td>2.0</td>\n",
       "      <td>3.0</td>\n",
       "      <td>1.0</td>\n",
       "      <td>0.0</td>\n",
       "      <td>NaN</td>\n",
       "      <td>0.0</td>\n",
       "      <td>1.0</td>\n",
       "      <td>-6.0</td>\n",
       "      <td>1.0</td>\n",
       "      <td>1.0</td>\n",
       "      <td>NaN</td>\n",
       "      <td>4.0</td>\n",
       "      <td>3.0</td>\n",
       "      <td>2.0</td>\n",
       "      <td>3.0</td>\n",
       "      <td>10.0</td>\n",
       "      <td>50.0</td>\n",
       "    </tr>\n",
       "    <tr>\n",
       "      <td>3</td>\n",
       "      <td>1</td>\n",
       "      <td>0</td>\n",
       "      <td>15</td>\n",
       "      <td>1.0</td>\n",
       "      <td>1.0</td>\n",
       "      <td>1.0</td>\n",
       "      <td>4.0</td>\n",
       "      <td>2.0</td>\n",
       "      <td>1</td>\n",
       "      <td>2.0</td>\n",
       "      <td>NaN</td>\n",
       "      <td>1.0</td>\n",
       "      <td>1.0</td>\n",
       "      <td>1.0</td>\n",
       "      <td>3.0</td>\n",
       "      <td>0.0</td>\n",
       "      <td>0.0</td>\n",
       "      <td>1.0</td>\n",
       "      <td>1.0</td>\n",
       "      <td>1.0</td>\n",
       "      <td>1.0</td>\n",
       "      <td>-9.0</td>\n",
       "      <td>1.0</td>\n",
       "      <td>1.0</td>\n",
       "      <td>1.0</td>\n",
       "      <td>3.0</td>\n",
       "      <td>2.0</td>\n",
       "      <td>2.0</td>\n",
       "      <td>5.0</td>\n",
       "      <td>2.0</td>\n",
       "      <td>75.0</td>\n",
       "    </tr>\n",
       "    <tr>\n",
       "      <td>4</td>\n",
       "      <td>1</td>\n",
       "      <td>0</td>\n",
       "      <td>16</td>\n",
       "      <td>1.0</td>\n",
       "      <td>1.0</td>\n",
       "      <td>1.0</td>\n",
       "      <td>3.0</td>\n",
       "      <td>3.0</td>\n",
       "      <td>1</td>\n",
       "      <td>5.0</td>\n",
       "      <td>5.0</td>\n",
       "      <td>1.0</td>\n",
       "      <td>2.0</td>\n",
       "      <td>1.0</td>\n",
       "      <td>2.0</td>\n",
       "      <td>0.0</td>\n",
       "      <td>0.0</td>\n",
       "      <td>1.0</td>\n",
       "      <td>1.0</td>\n",
       "      <td>0.0</td>\n",
       "      <td>1.0</td>\n",
       "      <td>-6.0</td>\n",
       "      <td>1.0</td>\n",
       "      <td>0.0</td>\n",
       "      <td>0.0</td>\n",
       "      <td>4.0</td>\n",
       "      <td>3.0</td>\n",
       "      <td>2.0</td>\n",
       "      <td>5.0</td>\n",
       "      <td>4.0</td>\n",
       "      <td>50.0</td>\n",
       "    </tr>\n",
       "    <tr>\n",
       "      <td>5</td>\n",
       "      <td>1</td>\n",
       "      <td>1</td>\n",
       "      <td>16</td>\n",
       "      <td>1.0</td>\n",
       "      <td>0.0</td>\n",
       "      <td>1.0</td>\n",
       "      <td>4.0</td>\n",
       "      <td>3.0</td>\n",
       "      <td>1</td>\n",
       "      <td>3.0</td>\n",
       "      <td>5.0</td>\n",
       "      <td>2.0</td>\n",
       "      <td>1.0</td>\n",
       "      <td>1.0</td>\n",
       "      <td>2.0</td>\n",
       "      <td>0.0</td>\n",
       "      <td>0.0</td>\n",
       "      <td>1.0</td>\n",
       "      <td>1.0</td>\n",
       "      <td>1.0</td>\n",
       "      <td>1.0</td>\n",
       "      <td>-6.0</td>\n",
       "      <td>1.0</td>\n",
       "      <td>1.0</td>\n",
       "      <td>0.0</td>\n",
       "      <td>5.0</td>\n",
       "      <td>4.0</td>\n",
       "      <td>2.0</td>\n",
       "      <td>5.0</td>\n",
       "      <td>10.0</td>\n",
       "      <td>75.0</td>\n",
       "    </tr>\n",
       "    <tr>\n",
       "      <td>6</td>\n",
       "      <td>1</td>\n",
       "      <td>1</td>\n",
       "      <td>16</td>\n",
       "      <td>NaN</td>\n",
       "      <td>0.0</td>\n",
       "      <td>1.0</td>\n",
       "      <td>2.0</td>\n",
       "      <td>2.0</td>\n",
       "      <td>1</td>\n",
       "      <td>5.0</td>\n",
       "      <td>5.0</td>\n",
       "      <td>1.0</td>\n",
       "      <td>1.0</td>\n",
       "      <td>1.0</td>\n",
       "      <td>2.0</td>\n",
       "      <td>0.0</td>\n",
       "      <td>0.0</td>\n",
       "      <td>0.0</td>\n",
       "      <td>0.0</td>\n",
       "      <td>0.0</td>\n",
       "      <td>1.0</td>\n",
       "      <td>-6.0</td>\n",
       "      <td>1.0</td>\n",
       "      <td>1.0</td>\n",
       "      <td>0.0</td>\n",
       "      <td>4.0</td>\n",
       "      <td>4.0</td>\n",
       "      <td>4.0</td>\n",
       "      <td>3.0</td>\n",
       "      <td>0.0</td>\n",
       "      <td>55.0</td>\n",
       "    </tr>\n",
       "    <tr>\n",
       "      <td>7</td>\n",
       "      <td>1</td>\n",
       "      <td>0</td>\n",
       "      <td>17</td>\n",
       "      <td>1.0</td>\n",
       "      <td>1.0</td>\n",
       "      <td>0.0</td>\n",
       "      <td>4.0</td>\n",
       "      <td>4.0</td>\n",
       "      <td>1</td>\n",
       "      <td>5.0</td>\n",
       "      <td>1.0</td>\n",
       "      <td>1.0</td>\n",
       "      <td>1.0</td>\n",
       "      <td>2.0</td>\n",
       "      <td>2.0</td>\n",
       "      <td>0.0</td>\n",
       "      <td>1.0</td>\n",
       "      <td>1.0</td>\n",
       "      <td>0.0</td>\n",
       "      <td>0.0</td>\n",
       "      <td>1.0</td>\n",
       "      <td>-6.0</td>\n",
       "      <td>1.0</td>\n",
       "      <td>0.0</td>\n",
       "      <td>0.0</td>\n",
       "      <td>4.0</td>\n",
       "      <td>1.0</td>\n",
       "      <td>4.0</td>\n",
       "      <td>1.0</td>\n",
       "      <td>6.0</td>\n",
       "      <td>30.0</td>\n",
       "    </tr>\n",
       "    <tr>\n",
       "      <td>8</td>\n",
       "      <td>1</td>\n",
       "      <td>1</td>\n",
       "      <td>15</td>\n",
       "      <td>1.0</td>\n",
       "      <td>0.0</td>\n",
       "      <td>0.0</td>\n",
       "      <td>3.0</td>\n",
       "      <td>2.0</td>\n",
       "      <td>1</td>\n",
       "      <td>3.0</td>\n",
       "      <td>5.0</td>\n",
       "      <td>1.0</td>\n",
       "      <td>1.0</td>\n",
       "      <td>1.0</td>\n",
       "      <td>2.0</td>\n",
       "      <td>0.0</td>\n",
       "      <td>0.0</td>\n",
       "      <td>1.0</td>\n",
       "      <td>1.0</td>\n",
       "      <td>0.0</td>\n",
       "      <td>1.0</td>\n",
       "      <td>-6.0</td>\n",
       "      <td>1.0</td>\n",
       "      <td>1.0</td>\n",
       "      <td>0.0</td>\n",
       "      <td>NaN</td>\n",
       "      <td>2.0</td>\n",
       "      <td>2.0</td>\n",
       "      <td>1.0</td>\n",
       "      <td>0.0</td>\n",
       "      <td>95.0</td>\n",
       "    </tr>\n",
       "    <tr>\n",
       "      <td>9</td>\n",
       "      <td>1</td>\n",
       "      <td>1</td>\n",
       "      <td>15</td>\n",
       "      <td>1.0</td>\n",
       "      <td>NaN</td>\n",
       "      <td>NaN</td>\n",
       "      <td>3.0</td>\n",
       "      <td>4.0</td>\n",
       "      <td>1</td>\n",
       "      <td>5.0</td>\n",
       "      <td>5.0</td>\n",
       "      <td>1.0</td>\n",
       "      <td>1.0</td>\n",
       "      <td>1.0</td>\n",
       "      <td>2.0</td>\n",
       "      <td>0.0</td>\n",
       "      <td>0.0</td>\n",
       "      <td>1.0</td>\n",
       "      <td>1.0</td>\n",
       "      <td>1.0</td>\n",
       "      <td>1.0</td>\n",
       "      <td>-6.0</td>\n",
       "      <td>1.0</td>\n",
       "      <td>1.0</td>\n",
       "      <td>0.0</td>\n",
       "      <td>5.0</td>\n",
       "      <td>5.0</td>\n",
       "      <td>1.0</td>\n",
       "      <td>5.0</td>\n",
       "      <td>0.0</td>\n",
       "      <td>75.0</td>\n",
       "    </tr>\n",
       "  </tbody>\n",
       "</table>\n",
       "</div>"
      ],
      "text/plain": [
       "   school_number  sex_male  age  urbanite  famsize_more3  Pstatus_together  \\\n",
       "0              1         0   18       1.0            NaN               0.0   \n",
       "1              1         0   17       1.0            1.0               NaN   \n",
       "2              1         0   15       1.0            0.0               1.0   \n",
       "3              1         0   15       1.0            1.0               1.0   \n",
       "4              1         0   16       1.0            1.0               1.0   \n",
       "5              1         1   16       1.0            0.0               1.0   \n",
       "6              1         1   16       NaN            0.0               1.0   \n",
       "7              1         0   17       1.0            1.0               0.0   \n",
       "8              1         1   15       1.0            0.0               0.0   \n",
       "9              1         1   15       1.0            NaN               NaN   \n",
       "\n",
       "   Medu  Fedu  кол-во  Mjob  Fjob  reason  guardian  traveltime  studytime  \\\n",
       "0   4.0   4.0       1   4.0   1.0     3.0       1.0         2.0        2.0   \n",
       "1   1.0   1.0       1   4.0   5.0     3.0       2.0         1.0        2.0   \n",
       "2   1.0   1.0       1   4.0   5.0     4.0       1.0         1.0        2.0   \n",
       "3   4.0   2.0       1   2.0   NaN     1.0       1.0         1.0        3.0   \n",
       "4   3.0   3.0       1   5.0   5.0     1.0       2.0         1.0        2.0   \n",
       "5   4.0   3.0       1   3.0   5.0     2.0       1.0         1.0        2.0   \n",
       "6   2.0   2.0       1   5.0   5.0     1.0       1.0         1.0        2.0   \n",
       "7   4.0   4.0       1   5.0   1.0     1.0       1.0         2.0        2.0   \n",
       "8   3.0   2.0       1   3.0   5.0     1.0       1.0         1.0        2.0   \n",
       "9   3.0   4.0       1   5.0   5.0     1.0       1.0         1.0        2.0   \n",
       "\n",
       "   failures  schoolsup  famsup  paid  activities  nursery  granular_studytime  \\\n",
       "0       0.0        1.0     0.0   0.0         0.0      1.0                -6.0   \n",
       "1       0.0        0.0     1.0   0.0         0.0      0.0                -6.0   \n",
       "2       3.0        1.0     0.0   NaN         0.0      1.0                -6.0   \n",
       "3       0.0        0.0     1.0   1.0         1.0      1.0                -9.0   \n",
       "4       0.0        0.0     1.0   1.0         0.0      1.0                -6.0   \n",
       "5       0.0        0.0     1.0   1.0         1.0      1.0                -6.0   \n",
       "6       0.0        0.0     0.0   0.0         0.0      1.0                -6.0   \n",
       "7       0.0        1.0     1.0   0.0         0.0      1.0                -6.0   \n",
       "8       0.0        0.0     1.0   1.0         0.0      1.0                -6.0   \n",
       "9       0.0        0.0     1.0   1.0         1.0      1.0                -6.0   \n",
       "\n",
       "   higher  internet  romantic  famrel  freetime  goout  health  absences  \\\n",
       "0     1.0       NaN       0.0     4.0       3.0    4.0     3.0       6.0   \n",
       "1     1.0       1.0       0.0     5.0       3.0    3.0     3.0       4.0   \n",
       "2     1.0       1.0       NaN     4.0       3.0    2.0     3.0      10.0   \n",
       "3     1.0       1.0       1.0     3.0       2.0    2.0     5.0       2.0   \n",
       "4     1.0       0.0       0.0     4.0       3.0    2.0     5.0       4.0   \n",
       "5     1.0       1.0       0.0     5.0       4.0    2.0     5.0      10.0   \n",
       "6     1.0       1.0       0.0     4.0       4.0    4.0     3.0       0.0   \n",
       "7     1.0       0.0       0.0     4.0       1.0    4.0     1.0       6.0   \n",
       "8     1.0       1.0       0.0     NaN       2.0    2.0     1.0       0.0   \n",
       "9     1.0       1.0       0.0     5.0       5.0    1.0     5.0       0.0   \n",
       "\n",
       "   score  \n",
       "0   30.0  \n",
       "1   30.0  \n",
       "2   50.0  \n",
       "3   75.0  \n",
       "4   50.0  \n",
       "5   75.0  \n",
       "6   55.0  \n",
       "7   30.0  \n",
       "8   95.0  \n",
       "9   75.0  "
      ]
     },
     "metadata": {},
     "output_type": "display_data"
    },
    {
     "name": "stdout",
     "output_type": "stream",
     "text": [
      "<class 'pandas.core.frame.DataFrame'>\n",
      "RangeIndex: 395 entries, 0 to 394\n",
      "Data columns (total 31 columns):\n",
      "school_number         395 non-null int64\n",
      "sex_male              395 non-null int64\n",
      "age                   395 non-null int64\n",
      "urbanite              378 non-null float64\n",
      "famsize_more3         368 non-null float64\n",
      "Pstatus_together      350 non-null float64\n",
      "Medu                  392 non-null float64\n",
      "Fedu                  371 non-null float64\n",
      "кол-во                395 non-null int64\n",
      "Mjob                  376 non-null float64\n",
      "Fjob                  359 non-null float64\n",
      "reason                378 non-null float64\n",
      "guardian              364 non-null float64\n",
      "traveltime            367 non-null float64\n",
      "studytime             387 non-null float64\n",
      "failures              373 non-null float64\n",
      "schoolsup             386 non-null float64\n",
      "famsup                356 non-null float64\n",
      "paid                  355 non-null float64\n",
      "activities            381 non-null float64\n",
      "nursery               379 non-null float64\n",
      "granular_studytime    388 non-null float64\n",
      "higher                375 non-null float64\n",
      "internet              361 non-null float64\n",
      "romantic              364 non-null float64\n",
      "famrel                368 non-null float64\n",
      "freetime              384 non-null float64\n",
      "goout                 387 non-null float64\n",
      "health                380 non-null float64\n",
      "absences              383 non-null float64\n",
      "score                 389 non-null float64\n",
      "dtypes: float64(27), int64(4)\n",
      "memory usage: 95.8 KB\n"
     ]
    }
   ],
   "source": [
    "#переименуем некоторые колонки, для однозначного понимания какие значения хранятся в них\n",
    "#(пример:sex_male, если значение 1 значит мужчина,если 0 значит женщина):\n",
    "\n",
    "stud_math = stud_math.rename(columns={'sex': 'sex_male',\n",
    "                                      'school': 'school_number',\n",
    "                                      'address':'urbanite', \n",
    "                                      'famsize': 'famsize_more3',\n",
    "                                      'Pstatus': 'Pstatus_together',\n",
    "                                      'studytime, granular': 'granular_studytime'})\n",
    "\n",
    "#приведем к числовому формату номинативные переменные для анализа:\n",
    "\n",
    "for column in ['schoolsup','famsup','paid','activities',\n",
    "               'nursery','higher','internet','romantic']:\n",
    "    stud_math[column]=stud_math[column].apply(lambda x:0 if x=='no' else 1 if x=='yes' else x)\n",
    "\n",
    "stud_math.sex_male=stud_math.sex_male.apply(lambda x: 1 if x=='M' else 0 if x=='F' else x)\n",
    "stud_math.school_number=stud_math.school_number.apply(lambda x: 1 if x=='GP' else 2 if x=='MS' else x)\n",
    "stud_math.urbanite=stud_math.urbanite.apply(lambda x: 1 if x=='U' else 0 if x=='R' else x)\n",
    "stud_math.famsize_more3=stud_math.famsize_more3.apply(lambda x: 1 if x=='GT3' else 0 if x=='LE3' else x)\n",
    "stud_math.Pstatus_together=stud_math.Pstatus_together.apply(lambda x: 1 if x=='T' else 0 if x=='A' else x)\n",
    "\n",
    "for column in ['Mjob','Fjob']:\n",
    "    stud_math[column]=stud_math[column].apply(lambda x: 1 if x=='teacher'\n",
    "                                              else 2 if x=='health'\n",
    "                                              else 3 if x=='services'\n",
    "                                              else 4 if x=='at_home'\n",
    "                                              else 5 if x=='other'\n",
    "                                              else x)\n",
    "stud_math.reason=stud_math.reason.apply(lambda x: 1 if x=='home'\n",
    "                                              else 2 if x=='reputation'\n",
    "                                              else 3 if x=='course'\n",
    "                                              else 4 if x=='other'\n",
    "                                              else x)\n",
    "stud_math.guardian=stud_math.guardian.apply(lambda x: 1 if x=='mother'\n",
    "                                              else 2 if x=='father'\n",
    "                                              else 3 if x=='other'\n",
    "                                              else x)\n",
    "\n",
    "display(stud_math.head(10))\n",
    "stud_math.info()"
   ]
  },
  {
   "cell_type": "markdown",
   "metadata": {},
   "source": [
    "### проанализируем каждую колонку отдельно:"
   ]
  },
  {
   "cell_type": "markdown",
   "metadata": {},
   "source": [
    "Первые две колонки: \"school_number\" - выбор между двумя школами, \"sex_male\" — пол ученика (1 - мужской, 0 - женский). Пустых значений в данных колонках нет"
   ]
  },
  {
   "cell_type": "code",
   "execution_count": 105,
   "metadata": {},
   "outputs": [
    {
     "name": "stdout",
     "output_type": "stream",
     "text": [
      "Уникальные значения: \n",
      " 16    104\n",
      "17     98\n",
      "18     82\n",
      "15     82\n",
      "19     24\n",
      "20      3\n",
      "22      1\n",
      "21      1\n",
      "Name: age, dtype: int64 \n",
      " Пустые значения (кол-во): 0 \n",
      " Пустые значения (%): 0.0\n",
      "25-й перцентиль: 16.0, 75-й перцентиль: 18.0, IQR: 2.0,  Границы выбросов: [13.0, 21.0].\n",
      "Имеются выбросы\n"
     ]
    },
    {
     "data": {
      "image/png": "[encoded data removed]",
      "text/plain": [
       "<Figure size 936x288 with 1 Axes>"
      ]
     },
     "metadata": {
      "needs_background": "light"
     },
     "output_type": "display_data"
    },
    {
     "data": {
      "image/png": "[encoded data removed]",
      "text/plain": [
       "<Figure size 936x288 with 1 Axes>"
      ]
     },
     "metadata": {
      "needs_background": "light"
     },
     "output_type": "display_data"
    }
   ],
   "source": [
    "info_columns(stud_math.age)\n",
    "stud_math.age.describe()\n",
    "limits(stud_math.age)\n",
    "show_histo(stud_math.age)\n",
    "get_boxplot(stud_math.age)"
   ]
  },
  {
   "cell_type": "markdown",
   "metadata": {},
   "source": [
    "Колонка \"Age\", определяет возраст ученика. Данная колонка не имеет пустых значений. Распределение не равномерное, имеются выбросы, хотя вполне могут обучаться студенты и более старшего возраста, данных очень мало, считаю удаление будет не совсем корректным. С увеличением возраста количество учеников и максимально набранные ими баллы уменьшаются."
   ]
  },
  {
   "cell_type": "code",
   "execution_count": 106,
   "metadata": {},
   "outputs": [
    {
     "name": "stdout",
     "output_type": "stream",
     "text": [
      "Уникальные значения: \n",
      " 1.0    295\n",
      "0.0     83\n",
      "Name: urbanite, dtype: int64 \n",
      " Пустые значения (кол-во): 17 \n",
      " Пустые значения (%): 4.3\n"
     ]
    }
   ],
   "source": [
    "info_columns(stud_math.urbanite)"
   ]
  },
  {
   "cell_type": "markdown",
   "metadata": {},
   "source": [
    "Колонка \"Urbanite\", определяет где живет ученик (в городе, либо за городом). Данная колонка имеет 17 пустых значений (4.3%), очевидно она связана со значениями \"traveltime\" и \"reason\", если в причинах выбора школы выбран пункт \"близость к дому\" и время в пути занимает менее 30 минут, можем предположить что ученик - городской житель. Создадим функцию, которая заполнит пустые значения единицей, если причина - близость к дому, либо время в пути менее 30 минут, остальные не заполненные значения (кол-во 2) заполним случайным значением в колонке (о или 1), полагаю мы можем себе это позволить, тк 2 пропущенных значения составляют менее 0.5% и не скажутся на влиянии данного признака на баллы ученика:"
   ]
  },
  {
   "cell_type": "code",
   "execution_count": 107,
   "metadata": {},
   "outputs": [],
   "source": [
    "def for_urban(urbanite,reason,traveltime):\n",
    "    if urbanite!=0 and urbanite!=1:\n",
    "        if reason==1 or traveltime==1 or traveltime==2:\n",
    "            return 1\n",
    "        else:\n",
    "            return np.random.choice([0,1])\n",
    "    else:\n",
    "        return urbanite\n",
    "    \n",
    "stud_math.urbanite=stud_math.apply(lambda x:for_urban(x.urbanite,x.reason,x.traveltime), axis=1)"
   ]
  },
  {
   "cell_type": "code",
   "execution_count": 108,
   "metadata": {},
   "outputs": [
    {
     "name": "stdout",
     "output_type": "stream",
     "text": [
      "25-й перцентиль: 1.0, 75-й перцентиль: 1.0, IQR: 0.0,  Границы выбросов: [1.0, 1.0].\n",
      "Имеются выбросы\n"
     ]
    },
    {
     "data": {
      "image/png": "[encoded data removed]",
      "text/plain": [
       "<Figure size 936x288 with 1 Axes>"
      ]
     },
     "metadata": {
      "needs_background": "light"
     },
     "output_type": "display_data"
    },
    {
     "data": {
      "image/png": "[encoded data removed]",
      "text/plain": [
       "<Figure size 936x288 with 1 Axes>"
      ]
     },
     "metadata": {
      "needs_background": "light"
     },
     "output_type": "display_data"
    }
   ],
   "source": [
    "limits(stud_math.urbanite)\n",
    "show_histo(stud_math.urbanite)\n",
    "get_boxplot(stud_math.urbanite)"
   ]
  },
  {
   "cell_type": "markdown",
   "metadata": {},
   "source": [
    "В целом учеников живущих в городе намного больше живущих загородом, ученики живущие в черте города получают в среднем более высокие баллы на экзаменах"
   ]
  },
  {
   "cell_type": "code",
   "execution_count": 109,
   "metadata": {},
   "outputs": [
    {
     "name": "stdout",
     "output_type": "stream",
     "text": [
      "Уникальные значения: \n",
      " 1.0    261\n",
      "0.0    107\n",
      "Name: famsize_more3, dtype: int64 \n",
      " Пустые значения (кол-во): 27 \n",
      " Пустые значения (%): 6.8\n"
     ]
    }
   ],
   "source": [
    "info_columns(stud_math.famsize_more3)"
   ]
  },
  {
   "cell_type": "markdown",
   "metadata": {},
   "source": [
    "Колонка \"famsize_more3\", определяет количество людей в семье ученика (более 3, либо равно/менее 3). Данная колонка имеет 27 пустых значений (6.8%), очевидной связи размера семьи с другими признаками не возможно определить. При замене пустых значений на медианное, приведет к несущественному усилению признака \"более 3\" на 3,8%:"
   ]
  },
  {
   "cell_type": "code",
   "execution_count": 110,
   "metadata": {},
   "outputs": [],
   "source": [
    "stud_math.famsize_more3=stud_math.famsize_more3.apply(lambda x: 1 if pd.isnull(x) else x)"
   ]
  },
  {
   "cell_type": "code",
   "execution_count": 111,
   "metadata": {},
   "outputs": [
    {
     "name": "stdout",
     "output_type": "stream",
     "text": [
      "25-й перцентиль: 0.0, 75-й перцентиль: 1.0, IQR: 1.0,  Границы выбросов: [-1.5, 2.5].\n"
     ]
    },
    {
     "data": {
      "image/png": "[encoded data removed]",
      "text/plain": [
       "<Figure size 936x288 with 1 Axes>"
      ]
     },
     "metadata": {
      "needs_background": "light"
     },
     "output_type": "display_data"
    },
    {
     "data": {
      "image/png": "[encoded data removed]",
      "text/plain": [
       "<Figure size 936x288 with 1 Axes>"
      ]
     },
     "metadata": {
      "needs_background": "light"
     },
     "output_type": "display_data"
    }
   ],
   "source": [
    "limits(stud_math.famsize_more3)\n",
    "show_histo(stud_math.famsize_more3)\n",
    "get_boxplot(stud_math.famsize_more3)"
   ]
  },
  {
   "cell_type": "markdown",
   "metadata": {},
   "source": [
    "Из графика видно что распределение баллов на экзаменах особо не зависит от размера семьи"
   ]
  },
  {
   "cell_type": "code",
   "execution_count": 112,
   "metadata": {},
   "outputs": [
    {
     "name": "stdout",
     "output_type": "stream",
     "text": [
      "Уникальные значения: \n",
      " 1.0    314\n",
      "0.0     36\n",
      "Name: Pstatus_together, dtype: int64 \n",
      " Пустые значения (кол-во): 45 \n",
      " Пустые значения (%): 11.4\n"
     ]
    },
    {
     "data": {
      "text/plain": [
       "count    350.000000\n",
       "mean       0.897143\n",
       "std        0.304207\n",
       "min        0.000000\n",
       "25%        1.000000\n",
       "50%        1.000000\n",
       "75%        1.000000\n",
       "max        1.000000\n",
       "Name: Pstatus_together, dtype: float64"
      ]
     },
     "execution_count": 112,
     "metadata": {},
     "output_type": "execute_result"
    }
   ],
   "source": [
    "info_columns(stud_math.Pstatus_together)\n",
    "stud_math.Pstatus_together.describe()"
   ]
  },
  {
   "cell_type": "markdown",
   "metadata": {},
   "source": [
    "Колонка \"Pstatus_together\", определяет семейный статус родителей ученика (вместе либо раздельно). Данная колонка имеет 45 пустых значений (11.4%), У 82% семей, в которых более трех членов в семье - родители живут вместе, в таком случае смею предположить в пропущенных значениях, где размер семьи \"более 3 человек\" - родители живут вместе. Таких значений 28, остальные значения можно заполнить так же единицей (медианным значением), что приведет к несущественному усилению признака \"живут вместе\" на 4,3%:"
   ]
  },
  {
   "cell_type": "code",
   "execution_count": 113,
   "metadata": {},
   "outputs": [],
   "source": [
    "stud_math.Pstatus_together=stud_math.Pstatus_together.apply(lambda x: 1 if pd.isnull(x) else x)"
   ]
  },
  {
   "cell_type": "code",
   "execution_count": 114,
   "metadata": {},
   "outputs": [
    {
     "name": "stdout",
     "output_type": "stream",
     "text": [
      "25-й перцентиль: 1.0, 75-й перцентиль: 1.0, IQR: 0.0,  Границы выбросов: [1.0, 1.0].\n",
      "Имеются выбросы\n"
     ]
    },
    {
     "data": {
      "image/png": "[encoded data removed]",
      "text/plain": [
       "<Figure size 936x288 with 1 Axes>"
      ]
     },
     "metadata": {
      "needs_background": "light"
     },
     "output_type": "display_data"
    },
    {
     "data": {
      "image/png": "[encoded data removed]",
      "text/plain": [
       "<Figure size 936x288 with 1 Axes>"
      ]
     },
     "metadata": {
      "needs_background": "light"
     },
     "output_type": "display_data"
    }
   ],
   "source": [
    "limits(stud_math.Pstatus_together)\n",
    "show_histo(stud_math.Pstatus_together)\n",
    "get_boxplot(stud_math.Pstatus_together)"
   ]
  },
  {
   "cell_type": "markdown",
   "metadata": {},
   "source": [
    "Из графика можно сделать вывод, что количество баллов на экзамене не зависит от статуса проживания родителей ученика."
   ]
  },
  {
   "cell_type": "code",
   "execution_count": 115,
   "metadata": {},
   "outputs": [
    {
     "name": "stdout",
     "output_type": "stream",
     "text": [
      "Уникальные значения: \n",
      " 4.0    131\n",
      "2.0    102\n",
      "3.0     97\n",
      "1.0     59\n",
      "0.0      3\n",
      "Name: Medu, dtype: int64 \n",
      " Пустые значения (кол-во): 3 \n",
      " Пустые значения (%): 0.8\n"
     ]
    },
    {
     "data": {
      "text/plain": [
       "count    392.000000\n",
       "mean       2.750000\n",
       "std        1.098127\n",
       "min        0.000000\n",
       "25%        2.000000\n",
       "50%        3.000000\n",
       "75%        4.000000\n",
       "max        4.000000\n",
       "Name: Medu, dtype: float64"
      ]
     },
     "execution_count": 115,
     "metadata": {},
     "output_type": "execute_result"
    }
   ],
   "source": [
    "info_columns(stud_math.Medu)\n",
    "stud_math.Medu.describe()"
   ]
  },
  {
   "cell_type": "markdown",
   "metadata": {},
   "source": [
    "Колонка \"Medu\", определяет уровень образования матери ученика (от 0 - без образования до 4 - высшего). Данная колонка имеет всего 3 пустых значений (0,8%). Изначально признак номинативный, варианты ответов заполнены согласно предложенного списка. Замена пустых значений на самое часто повторяющееся, приведет к несущественному усилению признака \"высшее образование\" на 0,8%:"
   ]
  },
  {
   "cell_type": "code",
   "execution_count": 116,
   "metadata": {},
   "outputs": [],
   "source": [
    "stud_math.Medu=stud_math.Medu.apply(lambda x:4 if pd.isnull(x) else x)"
   ]
  },
  {
   "cell_type": "code",
   "execution_count": 117,
   "metadata": {},
   "outputs": [
    {
     "name": "stdout",
     "output_type": "stream",
     "text": [
      "25-й перцентиль: 2.0, 75-й перцентиль: 4.0, IQR: 2.0,  Границы выбросов: [-1.0, 7.0].\n"
     ]
    },
    {
     "data": {
      "image/png": "[encoded data removed]",
      "text/plain": [
       "<Figure size 936x288 with 1 Axes>"
      ]
     },
     "metadata": {
      "needs_background": "light"
     },
     "output_type": "display_data"
    },
    {
     "data": {
      "image/png": "[encoded data removed]",
      "text/plain": [
       "<Figure size 936x288 with 1 Axes>"
      ]
     },
     "metadata": {
      "needs_background": "light"
     },
     "output_type": "display_data"
    }
   ],
   "source": [
    "limits(stud_math.Medu)\n",
    "show_histo(stud_math.Medu)\n",
    "get_boxplot(stud_math.Medu)"
   ]
  },
  {
   "cell_type": "markdown",
   "metadata": {},
   "source": [
    "Судя по графикам, уровень образования матери довольно сильно влияет на средний балл ученика, даже необходимо обратить внимание на высокие баллы учеников, матери которых не имеют образования вообще, видимо это служит сильным стимулом (болевой точкой матери) для хороших оценок ребенка. Также чем выше образование у матери тем больше вероятность что ребенка отдадут обучение математики"
   ]
  },
  {
   "cell_type": "code",
   "execution_count": 118,
   "metadata": {},
   "outputs": [
    {
     "name": "stdout",
     "output_type": "stream",
     "text": [
      "Уникальные значения: \n",
      " 2.0     106\n",
      "3.0      96\n",
      "4.0      88\n",
      "1.0      78\n",
      "0.0       2\n",
      "40.0      1\n",
      "Name: Fedu, dtype: int64 \n",
      " Пустые значения (кол-во): 24 \n",
      " Пустые значения (%): 6.1\n"
     ]
    },
    {
     "data": {
      "text/plain": [
       "count    371.000000\n",
       "mean       2.614555\n",
       "std        2.228732\n",
       "min        0.000000\n",
       "25%        2.000000\n",
       "50%        2.000000\n",
       "75%        3.000000\n",
       "max       40.000000\n",
       "Name: Fedu, dtype: float64"
      ]
     },
     "execution_count": 118,
     "metadata": {},
     "output_type": "execute_result"
    }
   ],
   "source": [
    "info_columns(stud_math.Fedu)\n",
    "stud_math.Fedu.describe()"
   ]
  },
  {
   "cell_type": "markdown",
   "metadata": {},
   "source": [
    "Колонка \"Fedu\", определяет уровень образования отца ученика (от 0 - без образования до 4 - высшего). Данная колонка имеет 24 пустых значений (6%) видимо анкету заполняли матери, либо отцы слишком ленивы, чтобы заполнить информацию о себе. В глаза бросается значение 40, думаю можем считать это опечаткой и заменим на 4.0. Также хочется надеется что родители работающие в сфере здравохранения и образования (колонка \"Fjob\") имеют высшее образование - заменим пустые значения у них на 4.0. т.к. признаки от 1 до 4 распределены относительно равномерно, остальные 19 значений заменим случайным значением от 1 до 4:"
   ]
  },
  {
   "cell_type": "code",
   "execution_count": 119,
   "metadata": {},
   "outputs": [],
   "source": [
    "def for_Fedu(Fedu,Fjob):\n",
    "    if Fedu!=0 and Fedu!=1 and Fedu!=2 and Fedu!=3 and Fedu!=4:\n",
    "        if Fjob==1 or Fjob==2 or Fedu==40:\n",
    "            return 4\n",
    "        else:\n",
    "            return np.random.choice([1,4])\n",
    "    else:\n",
    "        return Fedu\n",
    "    \n",
    "stud_math.Fedu=stud_math.apply(lambda x:for_Fedu(x.Fedu,x.Fjob), axis=1)"
   ]
  },
  {
   "cell_type": "code",
   "execution_count": 120,
   "metadata": {},
   "outputs": [
    {
     "name": "stdout",
     "output_type": "stream",
     "text": [
      "25-й перцентиль: 2.0, 75-й перцентиль: 4.0, IQR: 2.0,  Границы выбросов: [-1.0, 7.0].\n"
     ]
    },
    {
     "data": {
      "image/png": "[encoded data removed]",
      "text/plain": [
       "<Figure size 936x288 with 1 Axes>"
      ]
     },
     "metadata": {
      "needs_background": "light"
     },
     "output_type": "display_data"
    },
    {
     "data": {
      "image/png": "[encoded data removed]",
      "text/plain": [
       "<Figure size 936x288 with 1 Axes>"
      ]
     },
     "metadata": {
      "needs_background": "light"
     },
     "output_type": "display_data"
    }
   ],
   "source": [
    "limits(stud_math.Fedu)\n",
    "show_histo(stud_math.Fedu)\n",
    "get_boxplot(stud_math.Fedu)"
   ]
  },
  {
   "cell_type": "markdown",
   "metadata": {},
   "source": [
    "Образование отца не особо влияет на получение хороших оценок на экзамене по математике, за исключением тех отцов у которых нет образования вовсе, здесь имеется схожесть с моделью поведения матерей, видимо \"хорошие оценки\" основная цель у родителей без образования независимо от роли."
   ]
  },
  {
   "cell_type": "code",
   "execution_count": 121,
   "metadata": {},
   "outputs": [
    {
     "name": "stdout",
     "output_type": "stream",
     "text": [
      "Уникальные значения: \n",
      " 5.0    133\n",
      "3.0     98\n",
      "4.0     58\n",
      "1.0     55\n",
      "2.0     32\n",
      "Name: Mjob, dtype: int64 \n",
      " Пустые значения (кол-во): 19 \n",
      " Пустые значения (%): 4.8\n"
     ]
    },
    {
     "data": {
      "text/plain": [
       "count    376.000000\n",
       "mean       3.484043\n",
       "std        1.417890\n",
       "min        1.000000\n",
       "25%        3.000000\n",
       "50%        4.000000\n",
       "75%        5.000000\n",
       "max        5.000000\n",
       "Name: Mjob, dtype: float64"
      ]
     },
     "execution_count": 121,
     "metadata": {},
     "output_type": "execute_result"
    }
   ],
   "source": [
    "info_columns(stud_math.Mjob)\n",
    "stud_math.Mjob.describe()"
   ]
  },
  {
   "cell_type": "markdown",
   "metadata": {},
   "source": [
    "Колонка \"Mjob\" - место работы матери ученика (1 - сфера образования, 2 - сфера зравохранения, 3 - гос.служба, 4 - без работы, 5 - прочее). Данная колонка имеет 19 пустых значений (4,8%). Изначально признак номинативный, варианты ответов заполнены согласно предложенного списка. Замена пустых значений на случайное значение не приведет к существенному отклонению значений, тк доля пропусков составлееет менее 5%:"
   ]
  },
  {
   "cell_type": "code",
   "execution_count": 122,
   "metadata": {},
   "outputs": [],
   "source": [
    "stud_math.Mjob=stud_math.Mjob.apply(lambda x: np.random.choice([1,5]) if pd.isnull(x) else x)"
   ]
  },
  {
   "cell_type": "code",
   "execution_count": 123,
   "metadata": {},
   "outputs": [
    {
     "name": "stdout",
     "output_type": "stream",
     "text": [
      "25-й перцентиль: 3.0, 75-й перцентиль: 5.0, IQR: 2.0,  Границы выбросов: [0.0, 8.0].\n"
     ]
    },
    {
     "data": {
      "image/png": "[encoded data removed]",
      "text/plain": [
       "<Figure size 936x288 with 1 Axes>"
      ]
     },
     "metadata": {
      "needs_background": "light"
     },
     "output_type": "display_data"
    },
    {
     "data": {
      "image/png": "[encoded data removed]",
      "text/plain": [
       "<Figure size 936x288 with 1 Axes>"
      ]
     },
     "metadata": {
      "needs_background": "light"
     },
     "output_type": "display_data"
    }
   ],
   "source": [
    "limits(stud_math.Mjob)\n",
    "show_histo(stud_math.Mjob)\n",
    "get_boxplot(stud_math.Mjob)"
   ]
  },
  {
   "cell_type": "markdown",
   "metadata": {},
   "source": [
    "Сфера деятельности матери на получение высоких баллов по математике влияет, так же как у уровень образования матери, в тех сферах где у матери должен быть уровень высокий, дети показывают более высокие баллы (здравохранение и образование)"
   ]
  },
  {
   "cell_type": "code",
   "execution_count": 124,
   "metadata": {},
   "outputs": [
    {
     "name": "stdout",
     "output_type": "stream",
     "text": [
      "Уникальные значения: \n",
      " 5.0    197\n",
      "3.0    102\n",
      "1.0     29\n",
      "4.0     16\n",
      "2.0     15\n",
      "Name: Fjob, dtype: int64 \n",
      " Пустые значения (кол-во): 36 \n",
      " Пустые значения (%): 9.1\n"
     ]
    },
    {
     "data": {
      "text/plain": [
       "count    359.000000\n",
       "mean       3.938719\n",
       "std        1.314564\n",
       "min        1.000000\n",
       "25%        3.000000\n",
       "50%        5.000000\n",
       "75%        5.000000\n",
       "max        5.000000\n",
       "Name: Fjob, dtype: float64"
      ]
     },
     "execution_count": 124,
     "metadata": {},
     "output_type": "execute_result"
    }
   ],
   "source": [
    "info_columns(stud_math.Fjob)\n",
    "stud_math.Fjob.describe()"
   ]
  },
  {
   "cell_type": "markdown",
   "metadata": {},
   "source": [
    "Колонка \"Fjob\" - место работы отца ученика (1 - сфера образования, 2 - сфера зравохранения, 3 - гос.служба, 4 - без работы, 5 - прочее). Данная колонка имеет 36 пустых значений (9%). Изначально признак номинативный, варианты ответов заполнены согласно предложенного списка. В основном, согласно данных, родитель с высшим образованием работает не сидит дома, а также родитель без высшего образования выбирает работу не в сфере образования и здравохраниения, напишем такую функцию, которая учтет это и присвоим рэндомно возможные варианты:"
   ]
  },
  {
   "cell_type": "code",
   "execution_count": 125,
   "metadata": {},
   "outputs": [],
   "source": [
    "def for_Fjob(Fedu,Fjob):\n",
    "    if Fjob!=1 and Fjob!=5 and Fjob!=2 and Fjob!=3 and Fjob!=4:\n",
    "        if Fedu==4:\n",
    "            return np.random.choice([1,3])\n",
    "        else:\n",
    "            return np.random.choice([3,5])\n",
    "    else:\n",
    "        return Fjob\n",
    "    \n",
    "stud_math.Fjob=stud_math.apply(lambda x:for_Fjob(x.Fedu,x.Fjob), axis=1)"
   ]
  },
  {
   "cell_type": "code",
   "execution_count": 126,
   "metadata": {},
   "outputs": [
    {
     "name": "stdout",
     "output_type": "stream",
     "text": [
      "25-й перцентиль: 3.0, 75-й перцентиль: 5.0, IQR: 2.0,  Границы выбросов: [0.0, 8.0].\n"
     ]
    },
    {
     "data": {
      "image/png": "[encoded data removed]",
      "text/plain": [
       "<Figure size 936x288 with 1 Axes>"
      ]
     },
     "metadata": {
      "needs_background": "light"
     },
     "output_type": "display_data"
    },
    {
     "data": {
      "image/png": "[encoded data removed]",
      "text/plain": [
       "<Figure size 936x288 with 1 Axes>"
      ]
     },
     "metadata": {
      "needs_background": "light"
     },
     "output_type": "display_data"
    }
   ],
   "source": [
    "limits(stud_math.Fjob)\n",
    "show_histo(stud_math.Fjob)\n",
    "get_boxplot(stud_math.Fjob)"
   ]
  },
  {
   "cell_type": "markdown",
   "metadata": {},
   "source": [
    "Намного выше средний балл у учеников отцы которых работают в сфере образования, видимо собственный пример является важной состоявляющей, либо отцы хорошо могут донести материал ребенку и поработать дополнительно"
   ]
  },
  {
   "cell_type": "code",
   "execution_count": 127,
   "metadata": {},
   "outputs": [
    {
     "name": "stdout",
     "output_type": "stream",
     "text": [
      "Уникальные значения: \n",
      " 3.0    137\n",
      "1.0    104\n",
      "2.0    103\n",
      "4.0     34\n",
      "Name: reason, dtype: int64 \n",
      " Пустые значения (кол-во): 17 \n",
      " Пустые значения (%): 4.3\n"
     ]
    },
    {
     "data": {
      "text/plain": [
       "count    378.000000\n",
       "mean       2.267196\n",
       "std        0.963544\n",
       "min        1.000000\n",
       "25%        1.000000\n",
       "50%        2.000000\n",
       "75%        3.000000\n",
       "max        4.000000\n",
       "Name: reason, dtype: float64"
      ]
     },
     "execution_count": 127,
     "metadata": {},
     "output_type": "execute_result"
    }
   ],
   "source": [
    "info_columns(stud_math.reason)\n",
    "stud_math.reason.describe()"
   ]
  },
  {
   "cell_type": "markdown",
   "metadata": {},
   "source": [
    "Колонка \"reason\" - причина выбора той или иной школы для обучения (1 - близость к дому, 2 - репутация школы, 3 - образовательная программа, 4 - другое). Данная колонка имеет всего 17 пустых значений (4.3%). Изначально признак номинативный, варианты ответов заполнены согласно предложенного списка. Предположим что если ученик добирается до школы за менее чем 30 минут, то причиной выбора данной школы в основном служит близость школы к дому, остальные значения заменим рэндомно на самые популярные:"
   ]
  },
  {
   "cell_type": "code",
   "execution_count": 128,
   "metadata": {},
   "outputs": [],
   "source": [
    "def for_reason(reason,traveltime):\n",
    "    if reason!=1 and reason!=2 and reason!=3 and reason!=4:\n",
    "        if traveltime==1 or traveltime==2:\n",
    "            return 1\n",
    "        else:\n",
    "            return np.random.choice([2,3])\n",
    "    else:\n",
    "        return reason\n",
    "    \n",
    "stud_math.reason=stud_math.apply(lambda x:for_reason(x.reason,x.traveltime), axis=1)"
   ]
  },
  {
   "cell_type": "code",
   "execution_count": 129,
   "metadata": {},
   "outputs": [
    {
     "name": "stdout",
     "output_type": "stream",
     "text": [
      "25-й перцентиль: 1.0, 75-й перцентиль: 3.0, IQR: 2.0,  Границы выбросов: [-2.0, 6.0].\n"
     ]
    },
    {
     "data": {
      "image/png": "[encoded data removed]",
      "text/plain": [
       "<Figure size 936x288 with 1 Axes>"
      ]
     },
     "metadata": {
      "needs_background": "light"
     },
     "output_type": "display_data"
    },
    {
     "data": {
      "image/png": "[encoded data removed]",
      "text/plain": [
       "<Figure size 936x288 with 1 Axes>"
      ]
     },
     "metadata": {
      "needs_background": "light"
     },
     "output_type": "display_data"
    }
   ],
   "source": [
    "limits(stud_math.reason)\n",
    "show_histo(stud_math.reason)\n",
    "get_boxplot(stud_math.reason)"
   ]
  },
  {
   "cell_type": "markdown",
   "metadata": {},
   "source": [
    "Причина выбора школы не влияет на оценки по математике у учеников"
   ]
  },
  {
   "cell_type": "code",
   "execution_count": 130,
   "metadata": {},
   "outputs": [
    {
     "name": "stdout",
     "output_type": "stream",
     "text": [
      "Уникальные значения: \n",
      " 1.0    250\n",
      "2.0     86\n",
      "3.0     28\n",
      "Name: guardian, dtype: int64 \n",
      " Пустые значения (кол-во): 31 \n",
      " Пустые значения (%): 7.8\n"
     ]
    },
    {
     "data": {
      "text/plain": [
       "count    364.000000\n",
       "mean       1.390110\n",
       "std        0.626777\n",
       "min        1.000000\n",
       "25%        1.000000\n",
       "50%        1.000000\n",
       "75%        2.000000\n",
       "max        3.000000\n",
       "Name: guardian, dtype: float64"
      ]
     },
     "execution_count": 130,
     "metadata": {},
     "output_type": "execute_result"
    }
   ],
   "source": [
    "info_columns(stud_math.guardian)\n",
    "stud_math.guardian.describe()"
   ]
  },
  {
   "cell_type": "markdown",
   "metadata": {},
   "source": [
    "Колонка \"guardian\" - кто является основным опекуном ученика - ответсвенное лицо по всей видимости (1 - мать, 2 - отец, 3 - другое). Данная колонка имеет 31 пустое значение (7,8%). Изначально признак номинативный, варианты ответов заполнены согласно предложенного списка. Согласно данных, на значение опекуна не влияет пол ребенка, значения распределены относительно равномерно. Возможно после 18 лет ученику не нужен опекун, тк от 18 лет значение \"другое\" резко возрастает, в таком случае всем ученикам старше 18 лет можно присвоить значение 3 \"другое\", а до 18 лет рэмдомно распределить между значениями 1 и 2:"
   ]
  },
  {
   "cell_type": "code",
   "execution_count": 131,
   "metadata": {},
   "outputs": [],
   "source": [
    "def for_guardian(guardian,age):\n",
    "    if guardian!=1 and guardian!=2 and guardian!=3:\n",
    "        if age<18:\n",
    "            return np.random.choice([1,2])\n",
    "        else:\n",
    "            return 3\n",
    "    else:\n",
    "        return guardian\n",
    "    \n",
    "stud_math.guardian=stud_math.apply(lambda x:for_guardian(x.guardian,x.age), axis=1)"
   ]
  },
  {
   "cell_type": "code",
   "execution_count": 132,
   "metadata": {},
   "outputs": [
    {
     "name": "stdout",
     "output_type": "stream",
     "text": [
      "25-й перцентиль: 1.0, 75-й перцентиль: 2.0, IQR: 1.0,  Границы выбросов: [-0.5, 3.5].\n"
     ]
    },
    {
     "data": {
      "image/png": "[encoded data removed]",
      "text/plain": [
       "<Figure size 936x288 with 1 Axes>"
      ]
     },
     "metadata": {
      "needs_background": "light"
     },
     "output_type": "display_data"
    },
    {
     "data": {
      "image/png": "[encoded data removed]",
      "text/plain": [
       "<Figure size 936x288 with 1 Axes>"
      ]
     },
     "metadata": {
      "needs_background": "light"
     },
     "output_type": "display_data"
    }
   ],
   "source": [
    "limits(stud_math.guardian)\n",
    "show_histo(stud_math.guardian)\n",
    "get_boxplot(stud_math.guardian)"
   ]
  },
  {
   "cell_type": "markdown",
   "metadata": {},
   "source": [
    "Средний балл по математике у детей, опекуном которых является кто-то иной от матери и отца, немного ниже"
   ]
  },
  {
   "cell_type": "code",
   "execution_count": 133,
   "metadata": {},
   "outputs": [
    {
     "name": "stdout",
     "output_type": "stream",
     "text": [
      "Уникальные значения: \n",
      " 1.0    242\n",
      "2.0     96\n",
      "3.0     22\n",
      "4.0      7\n",
      "Name: traveltime, dtype: int64 \n",
      " Пустые значения (кол-во): 28 \n",
      " Пустые значения (%): 7.1\n"
     ]
    },
    {
     "data": {
      "text/plain": [
       "count    367.000000\n",
       "mean       1.438692\n",
       "std        0.694181\n",
       "min        1.000000\n",
       "25%        1.000000\n",
       "50%        1.000000\n",
       "75%        2.000000\n",
       "max        4.000000\n",
       "Name: traveltime, dtype: float64"
      ]
     },
     "execution_count": 133,
     "metadata": {},
     "output_type": "execute_result"
    }
   ],
   "source": [
    "info_columns(stud_math.traveltime)\n",
    "stud_math.traveltime.describe()"
   ]
  },
  {
   "cell_type": "markdown",
   "metadata": {},
   "source": [
    "Колонка \"traveltime\" - время в пути ученика от дома до школы (1 - <15 мин., 2 - 15-30 мин., 3 - 30-60 мин., 4 - >60 мин.). Данная колонка имеет 28 пустых значений (7.1%). Варианты ответов заполнены согласно предложенного списка. Если причиной выбора школы служит близость школы к дому, а также смею предположить что если ученик живет в городе, то также затрачивает на дорогу не более часа - значени 1-3, остальные значения заменим на 4 (ученикам которые живут за чертой города):"
   ]
  },
  {
   "cell_type": "code",
   "execution_count": 134,
   "metadata": {},
   "outputs": [],
   "source": [
    "def for_traveltime(urbanite,reason,traveltime):\n",
    "    if traveltime!=1 and traveltime!=2 and traveltime!=3 and traveltime!=4:\n",
    "        if reason==1 or urbanite==1:\n",
    "            return np.random.choice([1,3])\n",
    "        else:\n",
    "            return 4\n",
    "    else:\n",
    "        return traveltime\n",
    "    \n",
    "stud_math.traveltime=stud_math.apply(lambda x:for_traveltime(x.urbanite,x.reason,x.traveltime), axis=1)"
   ]
  },
  {
   "cell_type": "code",
   "execution_count": 135,
   "metadata": {},
   "outputs": [
    {
     "name": "stdout",
     "output_type": "stream",
     "text": [
      "25-й перцентиль: 1.0, 75-й перцентиль: 2.0, IQR: 1.0,  Границы выбросов: [-0.5, 3.5].\n",
      "Имеются выбросы\n"
     ]
    },
    {
     "data": {
      "image/png": "[encoded data removed]",
      "text/plain": [
       "<Figure size 936x288 with 1 Axes>"
      ]
     },
     "metadata": {
      "needs_background": "light"
     },
     "output_type": "display_data"
    },
    {
     "data": {
      "image/png": "[encoded data removed]",
      "text/plain": [
       "<Figure size 936x288 with 1 Axes>"
      ]
     },
     "metadata": {
      "needs_background": "light"
     },
     "output_type": "display_data"
    }
   ],
   "source": [
    "limits(stud_math.traveltime)\n",
    "show_histo(stud_math.traveltime)\n",
    "get_boxplot(stud_math.traveltime)"
   ]
  },
  {
   "cell_type": "markdown",
   "metadata": {},
   "source": [
    "Зависимости времени затрачиваемого на путь до школы и оценок по математике не наблюдается"
   ]
  },
  {
   "cell_type": "code",
   "execution_count": 136,
   "metadata": {},
   "outputs": [
    {
     "name": "stdout",
     "output_type": "stream",
     "text": [
      "Уникальные значения: \n",
      " 2.0    194\n",
      "1.0    103\n",
      "3.0     63\n",
      "4.0     27\n",
      "Name: studytime, dtype: int64 \n",
      " Пустые значения (кол-во): 8 \n",
      " Пустые значения (%): 2.0\n"
     ]
    },
    {
     "data": {
      "text/plain": [
       "count    387.000000\n",
       "mean       2.036176\n",
       "std        0.841744\n",
       "min        1.000000\n",
       "25%        1.000000\n",
       "50%        2.000000\n",
       "75%        2.000000\n",
       "max        4.000000\n",
       "Name: studytime, dtype: float64"
      ]
     },
     "execution_count": 136,
     "metadata": {},
     "output_type": "execute_result"
    }
   ],
   "source": [
    "info_columns(stud_math.studytime)\n",
    "stud_math.studytime.describe()"
   ]
  },
  {
   "cell_type": "markdown",
   "metadata": {},
   "source": [
    "Колонка \"studytime\" - время на учёбу помимо школы в неделю (1 - <2 часов, 2 - 2-5 часов, 3 - 5-10 часов, 4 - >10 часов). Данная колонка имеет всего 7 пустых значений (менее 2%). Варианты ответов заполнены согласно предложенного списка. Заменим пустые значения на самые популярные 1/2: "
   ]
  },
  {
   "cell_type": "code",
   "execution_count": 137,
   "metadata": {},
   "outputs": [],
   "source": [
    "stud_math.studytime=stud_math.studytime.apply(lambda x: np.random.choice([1,2]) if pd.isnull(x) else x)"
   ]
  },
  {
   "cell_type": "code",
   "execution_count": 138,
   "metadata": {},
   "outputs": [
    {
     "name": "stdout",
     "output_type": "stream",
     "text": [
      "25-й перцентиль: 1.0, 75-й перцентиль: 2.0, IQR: 1.0,  Границы выбросов: [-0.5, 3.5].\n",
      "Имеются выбросы\n"
     ]
    },
    {
     "data": {
      "image/png": "[encoded data removed]",
      "text/plain": [
       "<Figure size 936x288 with 1 Axes>"
      ]
     },
     "metadata": {
      "needs_background": "light"
     },
     "output_type": "display_data"
    },
    {
     "data": {
      "image/png": "[encoded data removed]",
      "text/plain": [
       "<Figure size 936x288 with 1 Axes>"
      ]
     },
     "metadata": {
      "needs_background": "light"
     },
     "output_type": "display_data"
    }
   ],
   "source": [
    "limits(stud_math.studytime)\n",
    "show_histo(stud_math.studytime)\n",
    "get_boxplot(stud_math.studytime)"
   ]
  },
  {
   "cell_type": "markdown",
   "metadata": {},
   "source": [
    "Чем больше ученик затрачивает время на учебу тем выше его баллы, но эта закономерность сохраняется до 10 часов, затем эффективносьт обучения падает, оценки не становятся выше"
   ]
  },
  {
   "cell_type": "code",
   "execution_count": 139,
   "metadata": {},
   "outputs": [
    {
     "name": "stdout",
     "output_type": "stream",
     "text": [
      "Уникальные значения: \n",
      " 0.0    293\n",
      "1.0     49\n",
      "2.0     16\n",
      "3.0     15\n",
      "Name: failures, dtype: int64 \n",
      " Пустые значения (кол-во): 22 \n",
      " Пустые значения (%): 5.6\n"
     ]
    },
    {
     "data": {
      "text/plain": [
       "count    373.000000\n",
       "mean       0.337802\n",
       "std        0.743135\n",
       "min        0.000000\n",
       "25%        0.000000\n",
       "50%        0.000000\n",
       "75%        0.000000\n",
       "max        3.000000\n",
       "Name: failures, dtype: float64"
      ]
     },
     "execution_count": 139,
     "metadata": {},
     "output_type": "execute_result"
    }
   ],
   "source": [
    "info_columns(stud_math.failures)\n",
    "stud_math.failures.describe()"
   ]
  },
  {
   "cell_type": "markdown",
   "metadata": {},
   "source": [
    "Колонка \"failures\" - количество внеучебных неудач (n, если 1<=n<3, иначе 0). Данная колонка имеет 22 пустых значений (5.6%). Варианты ответов заполнены согласно предложенного списка. Согласно данных, в основном, при наличии поддержки со стороны семьи и школы, у ученика количество неудач стремится к 0, остальные значения заменим на рэндомное от 0 до 3:"
   ]
  },
  {
   "cell_type": "code",
   "execution_count": 140,
   "metadata": {},
   "outputs": [],
   "source": [
    "def for_failures(failures,famsup,schoolsup):\n",
    "    if failures!=1 and failures!=2 and failures!=3 and failures!=0:\n",
    "        if famsup==1 or schoolsup==1:\n",
    "            return 0\n",
    "        else:\n",
    "            return np.random.choice([0,3])\n",
    "    else:\n",
    "        return failures\n",
    "    \n",
    "stud_math.failures=stud_math.apply(lambda x:for_failures(x.failures,x.famsup,x.schoolsup), axis=1)"
   ]
  },
  {
   "cell_type": "code",
   "execution_count": 141,
   "metadata": {},
   "outputs": [
    {
     "name": "stdout",
     "output_type": "stream",
     "text": [
      "25-й перцентиль: 0.0, 75-й перцентиль: 0.0, IQR: 0.0,  Границы выбросов: [0.0, 0.0].\n",
      "Имеются выбросы\n"
     ]
    },
    {
     "data": {
      "image/png": "[encoded data removed]",
      "text/plain": [
       "<Figure size 936x288 with 1 Axes>"
      ]
     },
     "metadata": {
      "needs_background": "light"
     },
     "output_type": "display_data"
    },
    {
     "data": {
      "image/png": "[encoded data removed]",
      "text/plain": [
       "<Figure size 936x288 with 1 Axes>"
      ]
     },
     "metadata": {
      "needs_background": "light"
     },
     "output_type": "display_data"
    }
   ],
   "source": [
    "limits(stud_math.failures)\n",
    "show_histo(stud_math.failures)\n",
    "get_boxplot(stud_math.failures)"
   ]
  },
  {
   "cell_type": "markdown",
   "metadata": {},
   "source": [
    "наблюдается зависимость от количества внеучебных неудач на оценки по математике, чем больше неудач тем ниже средняя оценка у наблюдаемой группы. Имеются выбросы в 0 и 3 категории, но данные значения имеют право на существование и удалять их сичтаю не целесообразным."
   ]
  },
  {
   "cell_type": "code",
   "execution_count": 142,
   "metadata": {},
   "outputs": [
    {
     "name": "stdout",
     "output_type": "stream",
     "text": [
      "Уникальные значения: \n",
      " 0.0    335\n",
      "1.0     51\n",
      "Name: schoolsup, dtype: int64 \n",
      " Пустые значения (кол-во): 9 \n",
      " Пустые значения (%): 2.3\n"
     ]
    },
    {
     "data": {
      "text/plain": [
       "count    386.000000\n",
       "mean       0.132124\n",
       "std        0.339065\n",
       "min        0.000000\n",
       "25%        0.000000\n",
       "50%        0.000000\n",
       "75%        0.000000\n",
       "max        1.000000\n",
       "Name: schoolsup, dtype: float64"
      ]
     },
     "execution_count": 142,
     "metadata": {},
     "output_type": "execute_result"
    }
   ],
   "source": [
    "info_columns(stud_math.schoolsup)\n",
    "stud_math.schoolsup.describe()"
   ]
  },
  {
   "cell_type": "markdown",
   "metadata": {},
   "source": [
    "Колонка \"schoolsup\", определяет имеется ли дополнительная образовательная поддержка ученику (1 - да, 0 - нет). Данная колонка имеет всего 9 пустых значений (2,3%). Изначально признак номинативный, варианты ответов заполнены согласно предложенного списка. Замена пустых значений на самое популярное или медианное, в данном случае значение одно и то же, приведет к несущественному усилению признака \"поддержки нет\" менее чем на 3%:"
   ]
  },
  {
   "cell_type": "code",
   "execution_count": 143,
   "metadata": {},
   "outputs": [],
   "source": [
    "stud_math.schoolsup=stud_math.schoolsup.apply(lambda x: 0 if pd.isnull(x) else x)"
   ]
  },
  {
   "cell_type": "code",
   "execution_count": 144,
   "metadata": {},
   "outputs": [
    {
     "name": "stdout",
     "output_type": "stream",
     "text": [
      "25-й перцентиль: 0.0, 75-й перцентиль: 0.0, IQR: 0.0,  Границы выбросов: [0.0, 0.0].\n",
      "Имеются выбросы\n"
     ]
    },
    {
     "data": {
      "image/png": "[encoded data removed]",
      "text/plain": [
       "<Figure size 936x288 with 1 Axes>"
      ]
     },
     "metadata": {
      "needs_background": "light"
     },
     "output_type": "display_data"
    },
    {
     "data": {
      "image/png": "[encoded data removed]",
      "text/plain": [
       "<Figure size 936x288 with 1 Axes>"
      ]
     },
     "metadata": {
      "needs_background": "light"
     },
     "output_type": "display_data"
    }
   ],
   "source": [
    "limits(stud_math.schoolsup)\n",
    "show_histo(stud_math.schoolsup)\n",
    "get_boxplot(stud_math.schoolsup)"
   ]
  },
  {
   "cell_type": "markdown",
   "metadata": {},
   "source": [
    "Поддержки школы по всей видимости ученикам не нужно, чем больше вмешиваются тем ниже результат"
   ]
  },
  {
   "cell_type": "code",
   "execution_count": 145,
   "metadata": {},
   "outputs": [
    {
     "name": "stdout",
     "output_type": "stream",
     "text": [
      "Уникальные значения: \n",
      " 1.0    219\n",
      "0.0    137\n",
      "Name: famsup, dtype: int64 \n",
      " Пустые значения (кол-во): 39 \n",
      " Пустые значения (%): 9.9\n"
     ]
    },
    {
     "data": {
      "text/plain": [
       "count    356.000000\n",
       "mean       0.615169\n",
       "std        0.487240\n",
       "min        0.000000\n",
       "25%        0.000000\n",
       "50%        1.000000\n",
       "75%        1.000000\n",
       "max        1.000000\n",
       "Name: famsup, dtype: float64"
      ]
     },
     "execution_count": 145,
     "metadata": {},
     "output_type": "execute_result"
    }
   ],
   "source": [
    "info_columns(stud_math.famsup)\n",
    "stud_math.famsup.describe()"
   ]
  },
  {
   "cell_type": "markdown",
   "metadata": {},
   "source": [
    "Колонка \"famsup\", определяет имеется ли дополнительная семейная образовательная поддержка ученику (1 - да, 0 - нет). Данная колонка имеет 39 пустых значений (9,9%). Изначально признак номинативный, варианты ответов заполнены согласно предложенного списка. Замена пустых значений на рэндомное значение 0/1 не приведет к существенному усилению того или иного признака:"
   ]
  },
  {
   "cell_type": "code",
   "execution_count": 146,
   "metadata": {},
   "outputs": [],
   "source": [
    "stud_math.famsup=stud_math.famsup.apply(lambda x: np.random.choice([0,1]) if pd.isnull(x) else x)"
   ]
  },
  {
   "cell_type": "code",
   "execution_count": 147,
   "metadata": {},
   "outputs": [
    {
     "name": "stdout",
     "output_type": "stream",
     "text": [
      "25-й перцентиль: 0.0, 75-й перцентиль: 1.0, IQR: 1.0,  Границы выбросов: [-1.5, 2.5].\n"
     ]
    },
    {
     "data": {
      "image/png": "[encoded data removed]",
      "text/plain": [
       "<Figure size 936x288 with 1 Axes>"
      ]
     },
     "metadata": {
      "needs_background": "light"
     },
     "output_type": "display_data"
    },
    {
     "data": {
      "image/png": "[encoded data removed]",
      "text/plain": [
       "<Figure size 936x288 with 1 Axes>"
      ]
     },
     "metadata": {
      "needs_background": "light"
     },
     "output_type": "display_data"
    }
   ],
   "source": [
    "limits(stud_math.famsup)\n",
    "show_histo(stud_math.famsup)\n",
    "get_boxplot(stud_math.famsup)"
   ]
  },
  {
   "cell_type": "markdown",
   "metadata": {},
   "source": [
    "Поддержка родителей никак не влияет на рельтаты экзаменов. Выбросов нет."
   ]
  },
  {
   "cell_type": "code",
   "execution_count": 148,
   "metadata": {},
   "outputs": [
    {
     "name": "stdout",
     "output_type": "stream",
     "text": [
      "Уникальные значения: \n",
      " 0.0    200\n",
      "1.0    155\n",
      "Name: paid, dtype: int64 \n",
      " Пустые значения (кол-во): 40 \n",
      " Пустые значения (%): 10.1\n"
     ]
    },
    {
     "data": {
      "text/plain": [
       "count    355.000000\n",
       "mean       0.436620\n",
       "std        0.496667\n",
       "min        0.000000\n",
       "25%        0.000000\n",
       "50%        0.000000\n",
       "75%        1.000000\n",
       "max        1.000000\n",
       "Name: paid, dtype: float64"
      ]
     },
     "execution_count": 148,
     "metadata": {},
     "output_type": "execute_result"
    }
   ],
   "source": [
    "info_columns(stud_math.paid)\n",
    "stud_math.paid.describe()"
   ]
  },
  {
   "cell_type": "markdown",
   "metadata": {},
   "source": [
    "Колонка \"paid\", определяет имеются ли дополнительные платные занятия по математике у ученика. Данная колонка имеет 40 пустых значений (10%). Изначально признак номинативный, варианты ответов заполнены согласно предложенного списка. Замена пустых значений на рэндомное значение 0/1 не приведет к существенному усилению того или иного признака:"
   ]
  },
  {
   "cell_type": "code",
   "execution_count": 149,
   "metadata": {},
   "outputs": [],
   "source": [
    "stud_math.paid=stud_math.paid.apply(lambda x: np.random.choice([0,1]) if pd.isnull(x) else x)"
   ]
  },
  {
   "cell_type": "code",
   "execution_count": 150,
   "metadata": {},
   "outputs": [
    {
     "name": "stdout",
     "output_type": "stream",
     "text": [
      "25-й перцентиль: 0.0, 75-й перцентиль: 1.0, IQR: 1.0,  Границы выбросов: [-1.5, 2.5].\n"
     ]
    },
    {
     "data": {
      "image/png": "[encoded data removed]",
      "text/plain": [
       "<Figure size 936x288 with 1 Axes>"
      ]
     },
     "metadata": {
      "needs_background": "light"
     },
     "output_type": "display_data"
    },
    {
     "data": {
      "image/png": "[encoded data removed]",
      "text/plain": [
       "<Figure size 936x288 with 1 Axes>"
      ]
     },
     "metadata": {
      "needs_background": "light"
     },
     "output_type": "display_data"
    }
   ],
   "source": [
    "limits(stud_math.paid)\n",
    "show_histo(stud_math.paid)\n",
    "get_boxplot(stud_math.paid)"
   ]
  },
  {
   "cell_type": "markdown",
   "metadata": {},
   "source": [
    "Дополнительные платные занятия по математике у ученика конечно же позитивно влияют на оценку по экзамену по математике, имеются выбросы, которые имеют место быть"
   ]
  },
  {
   "cell_type": "code",
   "execution_count": 151,
   "metadata": {},
   "outputs": [
    {
     "name": "stdout",
     "output_type": "stream",
     "text": [
      "Уникальные значения: \n",
      " 1.0    195\n",
      "0.0    186\n",
      "Name: activities, dtype: int64 \n",
      " Пустые значения (кол-во): 14 \n",
      " Пустые значения (%): 3.5\n"
     ]
    },
    {
     "data": {
      "text/plain": [
       "count    381.000000\n",
       "mean       0.511811\n",
       "std        0.500518\n",
       "min        0.000000\n",
       "25%        0.000000\n",
       "50%        1.000000\n",
       "75%        1.000000\n",
       "max        1.000000\n",
       "Name: activities, dtype: float64"
      ]
     },
     "execution_count": 151,
     "metadata": {},
     "output_type": "execute_result"
    }
   ],
   "source": [
    "info_columns(stud_math.activities)\n",
    "stud_math.activities.describe()"
   ]
  },
  {
   "cell_type": "markdown",
   "metadata": {},
   "source": [
    "Колонка \"activities\", определяет имеются ли дополнительные внеучебные занятия у ученика (1 - да, 0 - нет). Данная колонка имеет 14 пустых значений (3%). Изначально признак номинативный, варианты ответов заполнены согласно предложенного списка. Замена пустых значений на рэндомное значение 0/1 не приведет к существенному усилению того или иного признака, тк значения распределены относительно равномерно:"
   ]
  },
  {
   "cell_type": "code",
   "execution_count": 152,
   "metadata": {},
   "outputs": [],
   "source": [
    "stud_math.activities=stud_math.activities.apply(lambda x: np.random.choice([0,1]) if pd.isnull(x) else x)"
   ]
  },
  {
   "cell_type": "code",
   "execution_count": 153,
   "metadata": {},
   "outputs": [
    {
     "name": "stdout",
     "output_type": "stream",
     "text": [
      "25-й перцентиль: 0.0, 75-й перцентиль: 1.0, IQR: 1.0,  Границы выбросов: [-1.5, 2.5].\n"
     ]
    },
    {
     "data": {
      "image/png": "[encoded data removed]",
      "text/plain": [
       "<Figure size 936x288 with 1 Axes>"
      ]
     },
     "metadata": {
      "needs_background": "light"
     },
     "output_type": "display_data"
    },
    {
     "data": {
      "image/png": "[encoded data removed]",
      "text/plain": [
       "<Figure size 936x288 with 1 Axes>"
      ]
     },
     "metadata": {
      "needs_background": "light"
     },
     "output_type": "display_data"
    }
   ],
   "source": [
    "limits(stud_math.activities)\n",
    "show_histo(stud_math.activities)\n",
    "get_boxplot(stud_math.activities)"
   ]
  },
  {
   "cell_type": "markdown",
   "metadata": {},
   "source": [
    "В целом ученики, которые имеют дополнительные внеучебные занятия, пишут экзамены лучше, но также имеются выбросы"
   ]
  },
  {
   "cell_type": "code",
   "execution_count": 154,
   "metadata": {},
   "outputs": [
    {
     "name": "stdout",
     "output_type": "stream",
     "text": [
      "Уникальные значения: \n",
      " 1.0    300\n",
      "0.0     79\n",
      "Name: nursery, dtype: int64 \n",
      " Пустые значения (кол-во): 16 \n",
      " Пустые значения (%): 4.1\n"
     ]
    },
    {
     "data": {
      "text/plain": [
       "count    379.000000\n",
       "mean       0.791557\n",
       "std        0.406732\n",
       "min        0.000000\n",
       "25%        1.000000\n",
       "50%        1.000000\n",
       "75%        1.000000\n",
       "max        1.000000\n",
       "Name: nursery, dtype: float64"
      ]
     },
     "execution_count": 154,
     "metadata": {},
     "output_type": "execute_result"
    }
   ],
   "source": [
    "info_columns(stud_math.nursery)\n",
    "stud_math.nursery.describe()"
   ]
  },
  {
   "cell_type": "markdown",
   "metadata": {},
   "source": [
    "Колонка \"nursery\", посещал детский сад ученик (1 - да, 0 - нет). Данная колонка имеет16 пустых значений (4%). Изначально признак номинативный, варианты ответов заполнены согласно предложенного списка. Замена пустых значений на медианное не приведет к существенному усилению того или иного признака:"
   ]
  },
  {
   "cell_type": "code",
   "execution_count": 155,
   "metadata": {},
   "outputs": [],
   "source": [
    "stud_math.nursery=stud_math.nursery.apply(lambda x: 1 if pd.isnull(x) else x)"
   ]
  },
  {
   "cell_type": "code",
   "execution_count": 156,
   "metadata": {},
   "outputs": [
    {
     "name": "stdout",
     "output_type": "stream",
     "text": [
      "Уникальные значения: \n",
      " -6.0     194\n",
      "-3.0     103\n",
      "-9.0      64\n",
      "-12.0     27\n",
      "Name: granular_studytime, dtype: int64 \n",
      " Пустые значения (кол-во): 7 \n",
      " Пустые значения (%): 1.8\n"
     ]
    },
    {
     "data": {
      "text/plain": [
       "count    388.000000\n",
       "mean      -6.115979\n",
       "std        2.526235\n",
       "min      -12.000000\n",
       "25%       -6.000000\n",
       "50%       -6.000000\n",
       "75%       -3.000000\n",
       "max       -3.000000\n",
       "Name: granular_studytime, dtype: float64"
      ]
     },
     "execution_count": 156,
     "metadata": {},
     "output_type": "execute_result"
    }
   ],
   "source": [
    "info_columns(stud_math.granular_studytime)\n",
    "stud_math.granular_studytime.describe()"
   ]
  },
  {
   "cell_type": "markdown",
   "metadata": {},
   "source": [
    "Значения в колонке \"granular_studytime\" коррелирует со значениями в колонке \"studytime\" с коэф. -1. Предлагаю его удалить и отражать влияние только \"studytime\" на баллы ученика:"
   ]
  },
  {
   "cell_type": "code",
   "execution_count": 157,
   "metadata": {},
   "outputs": [],
   "source": [
    "stud_math = stud_math.drop('granular_studytime', axis=1)"
   ]
  },
  {
   "cell_type": "code",
   "execution_count": 158,
   "metadata": {},
   "outputs": [
    {
     "name": "stdout",
     "output_type": "stream",
     "text": [
      "Уникальные значения: \n",
      " 1.0    356\n",
      "0.0     19\n",
      "Name: higher, dtype: int64 \n",
      " Пустые значения (кол-во): 20 \n",
      " Пустые значения (%): 5.1\n"
     ]
    },
    {
     "data": {
      "text/plain": [
       "count    375.000000\n",
       "mean       0.949333\n",
       "std        0.219609\n",
       "min        0.000000\n",
       "25%        1.000000\n",
       "50%        1.000000\n",
       "75%        1.000000\n",
       "max        1.000000\n",
       "Name: higher, dtype: float64"
      ]
     },
     "execution_count": 158,
     "metadata": {},
     "output_type": "execute_result"
    }
   ],
   "source": [
    "info_columns(stud_math.higher)\n",
    "stud_math.higher.describe()"
   ]
  },
  {
   "cell_type": "markdown",
   "metadata": {},
   "source": [
    "Колонка \"higher\", хочет получить высшее образование ученик (1 - да, 0 - нет). Данная колонка имеет 20 пустых значений (5%). Изначально признак номинативный, варианты ответов заполнены согласно предложенного списка. Замена пустых значений на рэндомное не приведет к существенному усилению того или иного признака, усиление не более 5%:"
   ]
  },
  {
   "cell_type": "code",
   "execution_count": 159,
   "metadata": {},
   "outputs": [],
   "source": [
    "stud_math.higher=stud_math.higher.apply(lambda x: np.random.choice([0,1]) if pd.isnull(x) else x)"
   ]
  },
  {
   "cell_type": "code",
   "execution_count": 160,
   "metadata": {},
   "outputs": [
    {
     "name": "stdout",
     "output_type": "stream",
     "text": [
      "25-й перцентиль: 1.0, 75-й перцентиль: 1.0, IQR: 0.0,  Границы выбросов: [1.0, 1.0].\n",
      "Имеются выбросы\n"
     ]
    },
    {
     "data": {
      "image/png": "[encoded data removed]",
      "text/plain": [
       "<Figure size 936x288 with 1 Axes>"
      ]
     },
     "metadata": {
      "needs_background": "light"
     },
     "output_type": "display_data"
    },
    {
     "data": {
      "image/png": "[encoded data removed]",
      "text/plain": [
       "<Figure size 936x288 with 1 Axes>"
      ]
     },
     "metadata": {
      "needs_background": "light"
     },
     "output_type": "display_data"
    }
   ],
   "source": [
    "limits(stud_math.higher)\n",
    "show_histo(stud_math.higher)\n",
    "get_boxplot(stud_math.higher)"
   ]
  },
  {
   "cell_type": "markdown",
   "metadata": {},
   "source": [
    "Очевидно, если ученик планирует получить высшее образование - будет более старательным и постарается написать экзамен хорошо. Данное утверждение демонстрируют и подтверждают графики выше. Имеются незначительные выбросы"
   ]
  },
  {
   "cell_type": "code",
   "execution_count": 161,
   "metadata": {},
   "outputs": [
    {
     "name": "stdout",
     "output_type": "stream",
     "text": [
      "Уникальные значения: \n",
      " 1.0    305\n",
      "0.0     56\n",
      "Name: internet, dtype: int64 \n",
      " Пустые значения (кол-во): 34 \n",
      " Пустые значения (%): 8.6\n"
     ]
    },
    {
     "data": {
      "text/plain": [
       "count    361.000000\n",
       "mean       0.844875\n",
       "std        0.362526\n",
       "min        0.000000\n",
       "25%        1.000000\n",
       "50%        1.000000\n",
       "75%        1.000000\n",
       "max        1.000000\n",
       "Name: internet, dtype: float64"
      ]
     },
     "execution_count": 161,
     "metadata": {},
     "output_type": "execute_result"
    }
   ],
   "source": [
    "info_columns(stud_math.internet)\n",
    "stud_math.internet.describe()"
   ]
  },
  {
   "cell_type": "markdown",
   "metadata": {},
   "source": [
    "Колонка \"internet\", наличие интернета дома у ученика (1 - да, 0 - нет). Данная колонка имеет 34 пустых значений (8.6%). Изначально признак номинативный, варианты ответов заполнены согласно предложенного списка. Замена пустых значений на рэндомное не приведет к существенному усилению того или иного признака, у более чем 80% учеников имеется интернет:"
   ]
  },
  {
   "cell_type": "code",
   "execution_count": 162,
   "metadata": {},
   "outputs": [],
   "source": [
    "stud_math.internet=stud_math.internet.apply(lambda x: np.random.choice([0,1]) if pd.isnull(x) else x)"
   ]
  },
  {
   "cell_type": "code",
   "execution_count": 163,
   "metadata": {},
   "outputs": [
    {
     "name": "stdout",
     "output_type": "stream",
     "text": [
      "25-й перцентиль: 1.0, 75-й перцентиль: 1.0, IQR: 0.0,  Границы выбросов: [1.0, 1.0].\n",
      "Имеются выбросы\n"
     ]
    },
    {
     "data": {
      "image/png": "[encoded data removed]",
      "text/plain": [
       "<Figure size 936x288 with 1 Axes>"
      ]
     },
     "metadata": {
      "needs_background": "light"
     },
     "output_type": "display_data"
    },
    {
     "data": {
      "image/png": "[encoded data removed]",
      "text/plain": [
       "<Figure size 936x288 with 1 Axes>"
      ]
     },
     "metadata": {
      "needs_background": "light"
     },
     "output_type": "display_data"
    }
   ],
   "source": [
    "limits(stud_math.internet)\n",
    "show_histo(stud_math.internet)\n",
    "get_boxplot(stud_math.internet)"
   ]
  },
  {
   "cell_type": "markdown",
   "metadata": {},
   "source": [
    "Наличие интернета позитивно сказывается на оценках учеников"
   ]
  },
  {
   "cell_type": "code",
   "execution_count": 164,
   "metadata": {},
   "outputs": [
    {
     "name": "stdout",
     "output_type": "stream",
     "text": [
      "Уникальные значения: \n",
      " 0.0    240\n",
      "1.0    124\n",
      "Name: romantic, dtype: int64 \n",
      " Пустые значения (кол-во): 31 \n",
      " Пустые значения (%): 7.8\n"
     ]
    },
    {
     "data": {
      "text/plain": [
       "count    364.000000\n",
       "mean       0.340659\n",
       "std        0.474583\n",
       "min        0.000000\n",
       "25%        0.000000\n",
       "50%        0.000000\n",
       "75%        1.000000\n",
       "max        1.000000\n",
       "Name: romantic, dtype: float64"
      ]
     },
     "execution_count": 164,
     "metadata": {},
     "output_type": "execute_result"
    }
   ],
   "source": [
    "info_columns(stud_math.romantic)\n",
    "stud_math.romantic.describe()"
   ]
  },
  {
   "cell_type": "markdown",
   "metadata": {},
   "source": [
    "Колонка \"romantic\", находится ли в романтических отношениях ученик (1 - да, 0 - нет). Данная колонка имеет 31 пустое значение (7.8%). Изначально признак номинативный, варианты ответов заполнены согласно предложенного списка. Согласно данных, чем больше свободного времени у ученика, тем выше вероятность нахождения ученика в романтических отношениях, в таком случае если наличие свободного времени у ученика в диапазоне 1-2, то скорее вего ученик не состоит в романтических отношениях:"
   ]
  },
  {
   "cell_type": "code",
   "execution_count": 165,
   "metadata": {},
   "outputs": [],
   "source": [
    "def for_romantic(romantic,freetime):\n",
    "    if romantic!=1 and romantic!=0:\n",
    "        if freetime==1 or freetime==2:\n",
    "            return 0\n",
    "        else:\n",
    "            return np.random.choice([0,1])\n",
    "    else:\n",
    "        return romantic\n",
    "    \n",
    "stud_math.romantic=stud_math.apply(lambda x:for_romantic(x.romantic,x.freetime), axis=1)"
   ]
  },
  {
   "cell_type": "code",
   "execution_count": 166,
   "metadata": {},
   "outputs": [
    {
     "name": "stdout",
     "output_type": "stream",
     "text": [
      "25-й перцентиль: 0.0, 75-й перцентиль: 1.0, IQR: 1.0,  Границы выбросов: [-1.5, 2.5].\n"
     ]
    },
    {
     "data": {
      "image/png": "[encoded data removed]",
      "text/plain": [
       "<Figure size 936x288 with 1 Axes>"
      ]
     },
     "metadata": {
      "needs_background": "light"
     },
     "output_type": "display_data"
    },
    {
     "data": {
      "image/png": "[encoded data removed]",
      "text/plain": [
       "<Figure size 936x288 with 1 Axes>"
      ]
     },
     "metadata": {
      "needs_background": "light"
     },
     "output_type": "display_data"
    }
   ],
   "source": [
    "limits(stud_math.romantic)\n",
    "show_histo(stud_math.romantic)\n",
    "get_boxplot(stud_math.romantic)"
   ]
  },
  {
   "cell_type": "markdown",
   "metadata": {},
   "source": [
    "А вот наличие романтических отношений негативно сказывается на оценках учеников, что является в целом очевидным фактом"
   ]
  },
  {
   "cell_type": "code",
   "execution_count": 168,
   "metadata": {},
   "outputs": [
    {
     "name": "stdout",
     "output_type": "stream",
     "text": [
      "Уникальные значения: \n",
      "  4.0    182\n",
      " 5.0     99\n",
      " 3.0     62\n",
      " 2.0     17\n",
      " 1.0      7\n",
      "-1.0      1\n",
      "Name: famrel, dtype: int64 \n",
      " Пустые значения (кол-во): 27 \n",
      " Пустые значения (%): 6.8\n"
     ]
    },
    {
     "data": {
      "text/plain": [
       "count    368.000000\n",
       "mean       3.937500\n",
       "std        0.927277\n",
       "min       -1.000000\n",
       "25%        4.000000\n",
       "50%        4.000000\n",
       "75%        5.000000\n",
       "max        5.000000\n",
       "Name: famrel, dtype: float64"
      ]
     },
     "execution_count": 168,
     "metadata": {},
     "output_type": "execute_result"
    }
   ],
   "source": [
    "info_columns(stud_math.famrel)\n",
    "stud_math.famrel.describe()"
   ]
  },
  {
   "cell_type": "markdown",
   "metadata": {},
   "source": [
    "Колонка \"famrel\", семейные отношения (от 1 - очень плохо до 5 - очень хорошо). Данная колонка имеет 27 пустых значений (6.8%). В глаза бросается значение -1, думаю можем считать это опечаткой и заменим на 1. Остальные пустые значения заменим случайным значением самых популярных от 2 до 5:"
   ]
  },
  {
   "cell_type": "code",
   "execution_count": 169,
   "metadata": {},
   "outputs": [],
   "source": [
    "stud_math.famrel=stud_math.famrel.apply(lambda x: np.random.choice([2,5]) if pd.isnull(x) else x)\n",
    "stud_math.famrel=stud_math.famrel.apply(lambda x: 1 if x==-1 else x)"
   ]
  },
  {
   "cell_type": "code",
   "execution_count": 170,
   "metadata": {},
   "outputs": [
    {
     "name": "stdout",
     "output_type": "stream",
     "text": [
      "25-й перцентиль: 4.0, 75-й перцентиль: 5.0, IQR: 1.0,  Границы выбросов: [2.5, 6.5].\n",
      "Имеются выбросы\n"
     ]
    },
    {
     "data": {
      "image/png": "[encoded data removed]",
      "text/plain": [
       "<Figure size 936x288 with 1 Axes>"
      ]
     },
     "metadata": {
      "needs_background": "light"
     },
     "output_type": "display_data"
    },
    {
     "data": {
      "image/png": "[encoded data removed]",
      "text/plain": [
       "<Figure size 936x288 with 1 Axes>"
      ]
     },
     "metadata": {
      "needs_background": "light"
     },
     "output_type": "display_data"
    }
   ],
   "source": [
    "limits(stud_math.famrel)\n",
    "show_histo(stud_math.famrel)\n",
    "get_boxplot(stud_math.famrel)"
   ]
  },
  {
   "cell_type": "markdown",
   "metadata": {},
   "source": [
    "не наблюдается зависимости семейных отношений на оценки учеников"
   ]
  },
  {
   "cell_type": "code",
   "execution_count": 171,
   "metadata": {},
   "outputs": [
    {
     "name": "stdout",
     "output_type": "stream",
     "text": [
      "Уникальные значения: \n",
      " 3.0    153\n",
      "4.0    112\n",
      "2.0     63\n",
      "5.0     38\n",
      "1.0     18\n",
      "Name: freetime, dtype: int64 \n",
      " Пустые значения (кол-во): 11 \n",
      " Пустые значения (%): 2.8\n"
     ]
    },
    {
     "data": {
      "text/plain": [
       "count    384.000000\n",
       "mean       3.231771\n",
       "std        0.993940\n",
       "min        1.000000\n",
       "25%        3.000000\n",
       "50%        3.000000\n",
       "75%        4.000000\n",
       "max        5.000000\n",
       "Name: freetime, dtype: float64"
      ]
     },
     "execution_count": 171,
     "metadata": {},
     "output_type": "execute_result"
    }
   ],
   "source": [
    "info_columns(stud_math.freetime)\n",
    "stud_math.freetime.describe()"
   ]
  },
  {
   "cell_type": "markdown",
   "metadata": {},
   "source": [
    "Колонка \"freetime\", свободное время после школы (от 1 - очень мало до 5 - очень много). Данная колонка имеет 11 пустых значений (2.8%). Варианты ответов заполнены согласно предложенного списка. Остальные пустые значения заменим значениями в поле \"goout\", тк проведение времени с друзьями коррелирует со свободным временем в основном:"
   ]
  },
  {
   "cell_type": "code",
   "execution_count": 172,
   "metadata": {},
   "outputs": [],
   "source": [
    "def for_freetime(freetime,goout):\n",
    "    if freetime!=1 and freetime!=2 and freetime!=3 and freetime!=4 and freetime!=5:\n",
    "        return goout\n",
    "    else:\n",
    "        return freetime\n",
    "    \n",
    "stud_math.freetime=stud_math.apply(lambda x:for_freetime(x.freetime,x.goout), axis=1)"
   ]
  },
  {
   "cell_type": "code",
   "execution_count": 173,
   "metadata": {},
   "outputs": [
    {
     "name": "stdout",
     "output_type": "stream",
     "text": [
      "25-й перцентиль: 3.0, 75-й перцентиль: 4.0, IQR: 1.0,  Границы выбросов: [1.5, 5.5].\n",
      "Имеются выбросы\n"
     ]
    },
    {
     "data": {
      "image/png": "[encoded data removed]",
      "text/plain": [
       "<Figure size 936x288 with 1 Axes>"
      ]
     },
     "metadata": {
      "needs_background": "light"
     },
     "output_type": "display_data"
    },
    {
     "data": {
      "image/png": "[encoded data removed]",
      "text/plain": [
       "<Figure size 936x288 with 1 Axes>"
      ]
     },
     "metadata": {
      "needs_background": "light"
     },
     "output_type": "display_data"
    }
   ],
   "source": [
    "limits(stud_math.freetime)\n",
    "show_histo(stud_math.freetime)\n",
    "get_boxplot(stud_math.freetime)"
   ]
  },
  {
   "cell_type": "markdown",
   "metadata": {},
   "source": [
    "не наблюдается зависимости между наличием свободного времени и оценками на экзамене учеников"
   ]
  },
  {
   "cell_type": "code",
   "execution_count": 174,
   "metadata": {},
   "outputs": [
    {
     "name": "stdout",
     "output_type": "stream",
     "text": [
      "Уникальные значения: \n",
      " 3.0    127\n",
      "2.0    101\n",
      "4.0     84\n",
      "5.0     52\n",
      "1.0     23\n",
      "Name: goout, dtype: int64 \n",
      " Пустые значения (кол-во): 8 \n",
      " Пустые значения (%): 2.0\n"
     ]
    },
    {
     "data": {
      "text/plain": [
       "count    387.000000\n",
       "mean       3.105943\n",
       "std        1.115896\n",
       "min        1.000000\n",
       "25%        2.000000\n",
       "50%        3.000000\n",
       "75%        4.000000\n",
       "max        5.000000\n",
       "Name: goout, dtype: float64"
      ]
     },
     "execution_count": 174,
     "metadata": {},
     "output_type": "execute_result"
    }
   ],
   "source": [
    "info_columns(stud_math.goout)\n",
    "stud_math.goout.describe()"
   ]
  },
  {
   "cell_type": "markdown",
   "metadata": {},
   "source": [
    "Колонка \"goout\", проведение времени с друзьями  (от 1 - очень мало до 5 - очень много). Данная колонка имеет 8 пустых значений (всего 2%). Варианты ответов заполнены согласно предложенного списка. Остальные пустые значения заменим значениями в поле \"freetime\", тк проведение времени с друзьями коррелирует со свободным временем в основном:"
   ]
  },
  {
   "cell_type": "code",
   "execution_count": 175,
   "metadata": {},
   "outputs": [],
   "source": [
    "def for_goout(freetime,goout):\n",
    "    if goout!=1 and goout!=2 and goout!=3 and goout!=4 and goout!=5:\n",
    "        return freetime\n",
    "    else:\n",
    "        return goout\n",
    "    \n",
    "stud_math.goout=stud_math.apply(lambda x:for_goout(x.freetime,x.goout), axis=1)"
   ]
  },
  {
   "cell_type": "code",
   "execution_count": 176,
   "metadata": {},
   "outputs": [
    {
     "name": "stdout",
     "output_type": "stream",
     "text": [
      "25-й перцентиль: 2.0, 75-й перцентиль: 4.0, IQR: 2.0,  Границы выбросов: [-1.0, 7.0].\n"
     ]
    },
    {
     "data": {
      "image/png": "[encoded data removed]",
      "text/plain": [
       "<Figure size 936x288 with 1 Axes>"
      ]
     },
     "metadata": {
      "needs_background": "light"
     },
     "output_type": "display_data"
    },
    {
     "data": {
      "image/png": "[encoded data removed]",
      "text/plain": [
       "<Figure size 936x288 with 1 Axes>"
      ]
     },
     "metadata": {
      "needs_background": "light"
     },
     "output_type": "display_data"
    }
   ],
   "source": [
    "limits(stud_math.goout)\n",
    "show_histo(stud_math.goout)\n",
    "get_boxplot(stud_math.goout)"
   ]
  },
  {
   "cell_type": "markdown",
   "metadata": {},
   "source": [
    " проведение времени с друзьями коррелирует со свободным временем, поэтому и тут не особо наблюдается зависимости с оценками учеников"
   ]
  },
  {
   "cell_type": "code",
   "execution_count": 177,
   "metadata": {},
   "outputs": [
    {
     "name": "stdout",
     "output_type": "stream",
     "text": [
      "Уникальные значения: \n",
      " 5.0    138\n",
      "3.0     89\n",
      "4.0     63\n",
      "1.0     47\n",
      "2.0     43\n",
      "Name: health, dtype: int64 \n",
      " Пустые значения (кол-во): 15 \n",
      " Пустые значения (%): 3.8\n"
     ]
    },
    {
     "data": {
      "text/plain": [
       "count    380.000000\n",
       "mean       3.531579\n",
       "std        1.396019\n",
       "min        1.000000\n",
       "25%        3.000000\n",
       "50%        4.000000\n",
       "75%        5.000000\n",
       "max        5.000000\n",
       "Name: health, dtype: float64"
      ]
     },
     "execution_count": 177,
     "metadata": {},
     "output_type": "execute_result"
    }
   ],
   "source": [
    "info_columns(stud_math.health)\n",
    "stud_math.health.describe()"
   ]
  },
  {
   "cell_type": "markdown",
   "metadata": {},
   "source": [
    "Колонка \"health\", текущее состояние здоровья (от 1 - очень плохо до 5 - очень хорошо). Данная колонка имеет 15 пустых значений (всего 3.8%). Варианты ответов заполнены согласно предложенного списка. Остальные пустые значения заменим рэндомным значением:"
   ]
  },
  {
   "cell_type": "code",
   "execution_count": 178,
   "metadata": {},
   "outputs": [],
   "source": [
    "stud_math.health=stud_math.health.apply(lambda x: np.random.choice([1,5]) if pd.isnull(x) else x)"
   ]
  },
  {
   "cell_type": "code",
   "execution_count": 179,
   "metadata": {},
   "outputs": [
    {
     "name": "stdout",
     "output_type": "stream",
     "text": [
      "25-й перцентиль: 3.0, 75-й перцентиль: 5.0, IQR: 2.0,  Границы выбросов: [0.0, 8.0].\n"
     ]
    },
    {
     "data": {
      "image/png": "[encoded data removed]",
      "text/plain": [
       "<Figure size 936x288 with 1 Axes>"
      ]
     },
     "metadata": {
      "needs_background": "light"
     },
     "output_type": "display_data"
    },
    {
     "data": {
      "image/png": "[encoded data removed]",
      "text/plain": [
       "<Figure size 936x288 with 1 Axes>"
      ]
     },
     "metadata": {
      "needs_background": "light"
     },
     "output_type": "display_data"
    }
   ],
   "source": [
    "limits(stud_math.health)\n",
    "show_histo(stud_math.health)\n",
    "get_boxplot(stud_math.health)"
   ]
  },
  {
   "cell_type": "markdown",
   "metadata": {},
   "source": [
    "здоровье ученика и оценки на экзамене по математике не зависят друг от друга"
   ]
  },
  {
   "cell_type": "code",
   "execution_count": 180,
   "metadata": {},
   "outputs": [
    {
     "name": "stdout",
     "output_type": "stream",
     "text": [
      "Уникальные значения: \n",
      " 0.0      111\n",
      "2.0       60\n",
      "4.0       53\n",
      "6.0       31\n",
      "8.0       21\n",
      "10.0      17\n",
      "12.0      12\n",
      "14.0      12\n",
      "3.0        8\n",
      "16.0       7\n",
      "7.0        6\n",
      "5.0        5\n",
      "18.0       5\n",
      "20.0       4\n",
      "22.0       3\n",
      "9.0        3\n",
      "1.0        3\n",
      "15.0       2\n",
      "13.0       2\n",
      "11.0       2\n",
      "25.0       1\n",
      "54.0       1\n",
      "385.0      1\n",
      "26.0       1\n",
      "56.0       1\n",
      "24.0       1\n",
      "212.0      1\n",
      "21.0       1\n",
      "75.0       1\n",
      "30.0       1\n",
      "19.0       1\n",
      "38.0       1\n",
      "40.0       1\n",
      "23.0       1\n",
      "17.0       1\n",
      "28.0       1\n",
      "Name: absences, dtype: int64 \n",
      " Пустые значения (кол-во): 12 \n",
      " Пустые значения (%): 3.0\n"
     ]
    },
    {
     "data": {
      "text/plain": [
       "count    383.000000\n",
       "mean       7.279373\n",
       "std       23.465197\n",
       "min        0.000000\n",
       "25%        0.000000\n",
       "50%        4.000000\n",
       "75%        8.000000\n",
       "max      385.000000\n",
       "Name: absences, dtype: float64"
      ]
     },
     "execution_count": 180,
     "metadata": {},
     "output_type": "execute_result"
    }
   ],
   "source": [
    "info_columns(stud_math.absences)\n",
    "stud_math.absences.describe()"
   ]
  },
  {
   "cell_type": "markdown",
   "metadata": {},
   "source": [
    "Колонка \"absences\", количество пропущенных занятий. Данная колонка имеет 12 пустых значений (всего 3%). Сильно выбивается из списка значения 385 и 212 (если считать ч то в день у ребенка один урок, то физически он не мог пропустить такое количество занятий, тк в учебный год при пятидневке и обучении не более 10 месяцев в году), заменим эти значения, а также пропущенные значения на более популярное количество пропущенных занятий:"
   ]
  },
  {
   "cell_type": "code",
   "execution_count": 181,
   "metadata": {},
   "outputs": [],
   "source": [
    "stud_math.absences=stud_math.absences.apply(lambda x:np.random.choice([0,14]) if x==212 or x==385 or pd.isnull(x) else x)"
   ]
  },
  {
   "cell_type": "code",
   "execution_count": 111,
   "metadata": {},
   "outputs": [
    {
     "name": "stdout",
     "output_type": "stream",
     "text": [
      "25-й перцентиль: 0.0, 75-й перцентиль: 8.0, IQR: 8.0,  Границы выбросов: [-12.0, 20.0].\n",
      "Имеются выбросы\n"
     ]
    },
    {
     "data": {
      "image/png": "[encoded data removed]",
      "text/plain": [
       "<Figure size 936x288 with 1 Axes>"
      ]
     },
     "metadata": {
      "needs_background": "light"
     },
     "output_type": "display_data"
    },
    {
     "data": {
      "image/png": "[encoded data removed]",
      "text/plain": [
       "<Figure size 936x288 with 1 Axes>"
      ]
     },
     "metadata": {
      "needs_background": "light"
     },
     "output_type": "display_data"
    }
   ],
   "source": [
    "limits(stud_math.absences)\n",
    "show_histo(stud_math.absences)\n",
    "get_boxplot(stud_math.absences)"
   ]
  },
  {
   "cell_type": "markdown",
   "metadata": {},
   "source": [
    "зависимости оценок от пропусков особо не замечается, очевидно что если ученик не посущал занятия хорошую оценку не получит, но и ученик без пропусков получает низкие баллы"
   ]
  },
  {
   "cell_type": "code",
   "execution_count": 182,
   "metadata": {},
   "outputs": [
    {
     "name": "stdout",
     "output_type": "stream",
     "text": [
      "Уникальные значения: \n",
      " 50.0     54\n",
      "55.0     46\n",
      "0.0      37\n",
      "75.0     33\n",
      "65.0     31\n",
      "40.0     31\n",
      "60.0     31\n",
      "70.0     27\n",
      "45.0     27\n",
      "80.0     16\n",
      "30.0     15\n",
      "90.0     12\n",
      "35.0      9\n",
      "25.0      7\n",
      "85.0      6\n",
      "95.0      5\n",
      "100.0     1\n",
      "20.0      1\n",
      "Name: score, dtype: int64 \n",
      " Пустые значения (кол-во): 6 \n",
      " Пустые значения (%): 1.5\n"
     ]
    },
    {
     "data": {
      "text/plain": [
       "count    389.000000\n",
       "mean      52.262211\n",
       "std       22.919022\n",
       "min        0.000000\n",
       "25%       40.000000\n",
       "50%       55.000000\n",
       "75%       70.000000\n",
       "max      100.000000\n",
       "Name: score, dtype: float64"
      ]
     },
     "execution_count": 182,
     "metadata": {},
     "output_type": "execute_result"
    }
   ],
   "source": [
    "info_columns(stud_math.score)\n",
    "stud_math.score.describe()"
   ]
  },
  {
   "cell_type": "markdown",
   "metadata": {},
   "source": [
    "Колонка \"score\", баллы по госэкзамену по математике. Данная колонка имеет 6 пустых значений (1.5%). т.к. исходя из баллов будет анализироваться зависимость/влияние всех остальных колонок на баллы ученика, считаю что здесь невозможно присвоить какое-то значение рэндомное, медианное или еще какое-либо, поэтому данные строки нужно будет удалить из анализа:"
   ]
  },
  {
   "cell_type": "code",
   "execution_count": 183,
   "metadata": {},
   "outputs": [],
   "source": [
    "stud_math.dropna(subset=['score'], inplace=True)"
   ]
  },
  {
   "cell_type": "code",
   "execution_count": 184,
   "metadata": {},
   "outputs": [
    {
     "name": "stdout",
     "output_type": "stream",
     "text": [
      "Уникальные значения: \n",
      " 50.0     54\n",
      "55.0     46\n",
      "0.0      37\n",
      "75.0     33\n",
      "65.0     31\n",
      "40.0     31\n",
      "60.0     31\n",
      "70.0     27\n",
      "45.0     27\n",
      "80.0     16\n",
      "30.0     15\n",
      "90.0     12\n",
      "35.0      9\n",
      "25.0      7\n",
      "85.0      6\n",
      "95.0      5\n",
      "100.0     1\n",
      "20.0      1\n",
      "Name: score, dtype: int64 \n",
      " Пустые значения (кол-во): 0 \n",
      " Пустые значения (%): 0.0\n"
     ]
    },
    {
     "data": {
      "text/plain": [
       "count    389.000000\n",
       "mean      52.262211\n",
       "std       22.919022\n",
       "min        0.000000\n",
       "25%       40.000000\n",
       "50%       55.000000\n",
       "75%       70.000000\n",
       "max      100.000000\n",
       "Name: score, dtype: float64"
      ]
     },
     "execution_count": 184,
     "metadata": {},
     "output_type": "execute_result"
    }
   ],
   "source": [
    "info_columns(stud_math.score)\n",
    "stud_math.score.describe()"
   ]
  },
  {
   "cell_type": "code",
   "execution_count": 185,
   "metadata": {},
   "outputs": [
    {
     "data": {
      "text/html": [
       "<div>\n",
       "<style scoped>\n",
       "    .dataframe tbody tr th:only-of-type {\n",
       "        vertical-align: middle;\n",
       "    }\n",
       "\n",
       "    .dataframe tbody tr th {\n",
       "        vertical-align: top;\n",
       "    }\n",
       "\n",
       "    .dataframe thead th {\n",
       "        text-align: right;\n",
       "    }\n",
       "</style>\n",
       "<table border=\"1\" class=\"dataframe\">\n",
       "  <thead>\n",
       "    <tr style=\"text-align: right;\">\n",
       "      <th></th>\n",
       "      <th>school_number</th>\n",
       "      <th>sex_male</th>\n",
       "      <th>age</th>\n",
       "      <th>urbanite</th>\n",
       "      <th>famsize_more3</th>\n",
       "      <th>Pstatus_together</th>\n",
       "      <th>Medu</th>\n",
       "      <th>Fedu</th>\n",
       "      <th>кол-во</th>\n",
       "      <th>Mjob</th>\n",
       "      <th>Fjob</th>\n",
       "      <th>reason</th>\n",
       "      <th>guardian</th>\n",
       "      <th>traveltime</th>\n",
       "      <th>studytime</th>\n",
       "      <th>failures</th>\n",
       "      <th>schoolsup</th>\n",
       "      <th>famsup</th>\n",
       "      <th>paid</th>\n",
       "      <th>activities</th>\n",
       "      <th>nursery</th>\n",
       "      <th>higher</th>\n",
       "      <th>internet</th>\n",
       "      <th>romantic</th>\n",
       "      <th>famrel</th>\n",
       "      <th>freetime</th>\n",
       "      <th>goout</th>\n",
       "      <th>health</th>\n",
       "      <th>absences</th>\n",
       "      <th>score</th>\n",
       "    </tr>\n",
       "  </thead>\n",
       "  <tbody>\n",
       "    <tr>\n",
       "      <td>0</td>\n",
       "      <td>1</td>\n",
       "      <td>0</td>\n",
       "      <td>18</td>\n",
       "      <td>1.0</td>\n",
       "      <td>1.0</td>\n",
       "      <td>0.0</td>\n",
       "      <td>4.0</td>\n",
       "      <td>4.0</td>\n",
       "      <td>1</td>\n",
       "      <td>4.0</td>\n",
       "      <td>1.0</td>\n",
       "      <td>3.0</td>\n",
       "      <td>1.0</td>\n",
       "      <td>2.0</td>\n",
       "      <td>2.0</td>\n",
       "      <td>0.0</td>\n",
       "      <td>1.0</td>\n",
       "      <td>0.0</td>\n",
       "      <td>0.0</td>\n",
       "      <td>0.0</td>\n",
       "      <td>1.0</td>\n",
       "      <td>1.0</td>\n",
       "      <td>1.0</td>\n",
       "      <td>0.0</td>\n",
       "      <td>4.0</td>\n",
       "      <td>3.0</td>\n",
       "      <td>4.0</td>\n",
       "      <td>3.0</td>\n",
       "      <td>6.0</td>\n",
       "      <td>30.0</td>\n",
       "    </tr>\n",
       "    <tr>\n",
       "      <td>1</td>\n",
       "      <td>1</td>\n",
       "      <td>0</td>\n",
       "      <td>17</td>\n",
       "      <td>1.0</td>\n",
       "      <td>1.0</td>\n",
       "      <td>1.0</td>\n",
       "      <td>1.0</td>\n",
       "      <td>1.0</td>\n",
       "      <td>1</td>\n",
       "      <td>4.0</td>\n",
       "      <td>5.0</td>\n",
       "      <td>3.0</td>\n",
       "      <td>2.0</td>\n",
       "      <td>1.0</td>\n",
       "      <td>2.0</td>\n",
       "      <td>0.0</td>\n",
       "      <td>0.0</td>\n",
       "      <td>1.0</td>\n",
       "      <td>0.0</td>\n",
       "      <td>0.0</td>\n",
       "      <td>0.0</td>\n",
       "      <td>1.0</td>\n",
       "      <td>1.0</td>\n",
       "      <td>0.0</td>\n",
       "      <td>5.0</td>\n",
       "      <td>3.0</td>\n",
       "      <td>3.0</td>\n",
       "      <td>3.0</td>\n",
       "      <td>4.0</td>\n",
       "      <td>30.0</td>\n",
       "    </tr>\n",
       "    <tr>\n",
       "      <td>2</td>\n",
       "      <td>1</td>\n",
       "      <td>0</td>\n",
       "      <td>15</td>\n",
       "      <td>1.0</td>\n",
       "      <td>0.0</td>\n",
       "      <td>1.0</td>\n",
       "      <td>1.0</td>\n",
       "      <td>1.0</td>\n",
       "      <td>1</td>\n",
       "      <td>4.0</td>\n",
       "      <td>5.0</td>\n",
       "      <td>4.0</td>\n",
       "      <td>1.0</td>\n",
       "      <td>1.0</td>\n",
       "      <td>2.0</td>\n",
       "      <td>3.0</td>\n",
       "      <td>1.0</td>\n",
       "      <td>0.0</td>\n",
       "      <td>0.0</td>\n",
       "      <td>0.0</td>\n",
       "      <td>1.0</td>\n",
       "      <td>1.0</td>\n",
       "      <td>1.0</td>\n",
       "      <td>0.0</td>\n",
       "      <td>4.0</td>\n",
       "      <td>3.0</td>\n",
       "      <td>2.0</td>\n",
       "      <td>3.0</td>\n",
       "      <td>10.0</td>\n",
       "      <td>50.0</td>\n",
       "    </tr>\n",
       "    <tr>\n",
       "      <td>3</td>\n",
       "      <td>1</td>\n",
       "      <td>0</td>\n",
       "      <td>15</td>\n",
       "      <td>1.0</td>\n",
       "      <td>1.0</td>\n",
       "      <td>1.0</td>\n",
       "      <td>4.0</td>\n",
       "      <td>2.0</td>\n",
       "      <td>1</td>\n",
       "      <td>2.0</td>\n",
       "      <td>5.0</td>\n",
       "      <td>1.0</td>\n",
       "      <td>1.0</td>\n",
       "      <td>1.0</td>\n",
       "      <td>3.0</td>\n",
       "      <td>0.0</td>\n",
       "      <td>0.0</td>\n",
       "      <td>1.0</td>\n",
       "      <td>1.0</td>\n",
       "      <td>1.0</td>\n",
       "      <td>1.0</td>\n",
       "      <td>1.0</td>\n",
       "      <td>1.0</td>\n",
       "      <td>1.0</td>\n",
       "      <td>3.0</td>\n",
       "      <td>2.0</td>\n",
       "      <td>2.0</td>\n",
       "      <td>5.0</td>\n",
       "      <td>2.0</td>\n",
       "      <td>75.0</td>\n",
       "    </tr>\n",
       "    <tr>\n",
       "      <td>4</td>\n",
       "      <td>1</td>\n",
       "      <td>0</td>\n",
       "      <td>16</td>\n",
       "      <td>1.0</td>\n",
       "      <td>1.0</td>\n",
       "      <td>1.0</td>\n",
       "      <td>3.0</td>\n",
       "      <td>3.0</td>\n",
       "      <td>1</td>\n",
       "      <td>5.0</td>\n",
       "      <td>5.0</td>\n",
       "      <td>1.0</td>\n",
       "      <td>2.0</td>\n",
       "      <td>1.0</td>\n",
       "      <td>2.0</td>\n",
       "      <td>0.0</td>\n",
       "      <td>0.0</td>\n",
       "      <td>1.0</td>\n",
       "      <td>1.0</td>\n",
       "      <td>0.0</td>\n",
       "      <td>1.0</td>\n",
       "      <td>1.0</td>\n",
       "      <td>0.0</td>\n",
       "      <td>0.0</td>\n",
       "      <td>4.0</td>\n",
       "      <td>3.0</td>\n",
       "      <td>2.0</td>\n",
       "      <td>5.0</td>\n",
       "      <td>4.0</td>\n",
       "      <td>50.0</td>\n",
       "    </tr>\n",
       "    <tr>\n",
       "      <td>5</td>\n",
       "      <td>1</td>\n",
       "      <td>1</td>\n",
       "      <td>16</td>\n",
       "      <td>1.0</td>\n",
       "      <td>0.0</td>\n",
       "      <td>1.0</td>\n",
       "      <td>4.0</td>\n",
       "      <td>3.0</td>\n",
       "      <td>1</td>\n",
       "      <td>3.0</td>\n",
       "      <td>5.0</td>\n",
       "      <td>2.0</td>\n",
       "      <td>1.0</td>\n",
       "      <td>1.0</td>\n",
       "      <td>2.0</td>\n",
       "      <td>0.0</td>\n",
       "      <td>0.0</td>\n",
       "      <td>1.0</td>\n",
       "      <td>1.0</td>\n",
       "      <td>1.0</td>\n",
       "      <td>1.0</td>\n",
       "      <td>1.0</td>\n",
       "      <td>1.0</td>\n",
       "      <td>0.0</td>\n",
       "      <td>5.0</td>\n",
       "      <td>4.0</td>\n",
       "      <td>2.0</td>\n",
       "      <td>5.0</td>\n",
       "      <td>10.0</td>\n",
       "      <td>75.0</td>\n",
       "    </tr>\n",
       "    <tr>\n",
       "      <td>6</td>\n",
       "      <td>1</td>\n",
       "      <td>1</td>\n",
       "      <td>16</td>\n",
       "      <td>1.0</td>\n",
       "      <td>0.0</td>\n",
       "      <td>1.0</td>\n",
       "      <td>2.0</td>\n",
       "      <td>2.0</td>\n",
       "      <td>1</td>\n",
       "      <td>5.0</td>\n",
       "      <td>5.0</td>\n",
       "      <td>1.0</td>\n",
       "      <td>1.0</td>\n",
       "      <td>1.0</td>\n",
       "      <td>2.0</td>\n",
       "      <td>0.0</td>\n",
       "      <td>0.0</td>\n",
       "      <td>0.0</td>\n",
       "      <td>0.0</td>\n",
       "      <td>0.0</td>\n",
       "      <td>1.0</td>\n",
       "      <td>1.0</td>\n",
       "      <td>1.0</td>\n",
       "      <td>0.0</td>\n",
       "      <td>4.0</td>\n",
       "      <td>4.0</td>\n",
       "      <td>4.0</td>\n",
       "      <td>3.0</td>\n",
       "      <td>0.0</td>\n",
       "      <td>55.0</td>\n",
       "    </tr>\n",
       "    <tr>\n",
       "      <td>7</td>\n",
       "      <td>1</td>\n",
       "      <td>0</td>\n",
       "      <td>17</td>\n",
       "      <td>1.0</td>\n",
       "      <td>1.0</td>\n",
       "      <td>0.0</td>\n",
       "      <td>4.0</td>\n",
       "      <td>4.0</td>\n",
       "      <td>1</td>\n",
       "      <td>5.0</td>\n",
       "      <td>1.0</td>\n",
       "      <td>1.0</td>\n",
       "      <td>1.0</td>\n",
       "      <td>2.0</td>\n",
       "      <td>2.0</td>\n",
       "      <td>0.0</td>\n",
       "      <td>1.0</td>\n",
       "      <td>1.0</td>\n",
       "      <td>0.0</td>\n",
       "      <td>0.0</td>\n",
       "      <td>1.0</td>\n",
       "      <td>1.0</td>\n",
       "      <td>0.0</td>\n",
       "      <td>0.0</td>\n",
       "      <td>4.0</td>\n",
       "      <td>1.0</td>\n",
       "      <td>4.0</td>\n",
       "      <td>1.0</td>\n",
       "      <td>6.0</td>\n",
       "      <td>30.0</td>\n",
       "    </tr>\n",
       "    <tr>\n",
       "      <td>8</td>\n",
       "      <td>1</td>\n",
       "      <td>1</td>\n",
       "      <td>15</td>\n",
       "      <td>1.0</td>\n",
       "      <td>0.0</td>\n",
       "      <td>0.0</td>\n",
       "      <td>3.0</td>\n",
       "      <td>2.0</td>\n",
       "      <td>1</td>\n",
       "      <td>3.0</td>\n",
       "      <td>5.0</td>\n",
       "      <td>1.0</td>\n",
       "      <td>1.0</td>\n",
       "      <td>1.0</td>\n",
       "      <td>2.0</td>\n",
       "      <td>0.0</td>\n",
       "      <td>0.0</td>\n",
       "      <td>1.0</td>\n",
       "      <td>1.0</td>\n",
       "      <td>0.0</td>\n",
       "      <td>1.0</td>\n",
       "      <td>1.0</td>\n",
       "      <td>1.0</td>\n",
       "      <td>0.0</td>\n",
       "      <td>5.0</td>\n",
       "      <td>2.0</td>\n",
       "      <td>2.0</td>\n",
       "      <td>1.0</td>\n",
       "      <td>0.0</td>\n",
       "      <td>95.0</td>\n",
       "    </tr>\n",
       "    <tr>\n",
       "      <td>9</td>\n",
       "      <td>1</td>\n",
       "      <td>1</td>\n",
       "      <td>15</td>\n",
       "      <td>1.0</td>\n",
       "      <td>1.0</td>\n",
       "      <td>1.0</td>\n",
       "      <td>3.0</td>\n",
       "      <td>4.0</td>\n",
       "      <td>1</td>\n",
       "      <td>5.0</td>\n",
       "      <td>5.0</td>\n",
       "      <td>1.0</td>\n",
       "      <td>1.0</td>\n",
       "      <td>1.0</td>\n",
       "      <td>2.0</td>\n",
       "      <td>0.0</td>\n",
       "      <td>0.0</td>\n",
       "      <td>1.0</td>\n",
       "      <td>1.0</td>\n",
       "      <td>1.0</td>\n",
       "      <td>1.0</td>\n",
       "      <td>1.0</td>\n",
       "      <td>1.0</td>\n",
       "      <td>0.0</td>\n",
       "      <td>5.0</td>\n",
       "      <td>5.0</td>\n",
       "      <td>1.0</td>\n",
       "      <td>5.0</td>\n",
       "      <td>0.0</td>\n",
       "      <td>75.0</td>\n",
       "    </tr>\n",
       "  </tbody>\n",
       "</table>\n",
       "</div>"
      ],
      "text/plain": [
       "   school_number  sex_male  age  urbanite  famsize_more3  Pstatus_together  \\\n",
       "0              1         0   18       1.0            1.0               0.0   \n",
       "1              1         0   17       1.0            1.0               1.0   \n",
       "2              1         0   15       1.0            0.0               1.0   \n",
       "3              1         0   15       1.0            1.0               1.0   \n",
       "4              1         0   16       1.0            1.0               1.0   \n",
       "5              1         1   16       1.0            0.0               1.0   \n",
       "6              1         1   16       1.0            0.0               1.0   \n",
       "7              1         0   17       1.0            1.0               0.0   \n",
       "8              1         1   15       1.0            0.0               0.0   \n",
       "9              1         1   15       1.0            1.0               1.0   \n",
       "\n",
       "   Medu  Fedu  кол-во  Mjob  Fjob  reason  guardian  traveltime  studytime  \\\n",
       "0   4.0   4.0       1   4.0   1.0     3.0       1.0         2.0        2.0   \n",
       "1   1.0   1.0       1   4.0   5.0     3.0       2.0         1.0        2.0   \n",
       "2   1.0   1.0       1   4.0   5.0     4.0       1.0         1.0        2.0   \n",
       "3   4.0   2.0       1   2.0   5.0     1.0       1.0         1.0        3.0   \n",
       "4   3.0   3.0       1   5.0   5.0     1.0       2.0         1.0        2.0   \n",
       "5   4.0   3.0       1   3.0   5.0     2.0       1.0         1.0        2.0   \n",
       "6   2.0   2.0       1   5.0   5.0     1.0       1.0         1.0        2.0   \n",
       "7   4.0   4.0       1   5.0   1.0     1.0       1.0         2.0        2.0   \n",
       "8   3.0   2.0       1   3.0   5.0     1.0       1.0         1.0        2.0   \n",
       "9   3.0   4.0       1   5.0   5.0     1.0       1.0         1.0        2.0   \n",
       "\n",
       "   failures  schoolsup  famsup  paid  activities  nursery  higher  internet  \\\n",
       "0       0.0        1.0     0.0   0.0         0.0      1.0     1.0       1.0   \n",
       "1       0.0        0.0     1.0   0.0         0.0      0.0     1.0       1.0   \n",
       "2       3.0        1.0     0.0   0.0         0.0      1.0     1.0       1.0   \n",
       "3       0.0        0.0     1.0   1.0         1.0      1.0     1.0       1.0   \n",
       "4       0.0        0.0     1.0   1.0         0.0      1.0     1.0       0.0   \n",
       "5       0.0        0.0     1.0   1.0         1.0      1.0     1.0       1.0   \n",
       "6       0.0        0.0     0.0   0.0         0.0      1.0     1.0       1.0   \n",
       "7       0.0        1.0     1.0   0.0         0.0      1.0     1.0       0.0   \n",
       "8       0.0        0.0     1.0   1.0         0.0      1.0     1.0       1.0   \n",
       "9       0.0        0.0     1.0   1.0         1.0      1.0     1.0       1.0   \n",
       "\n",
       "   romantic  famrel  freetime  goout  health  absences  score  \n",
       "0       0.0     4.0       3.0    4.0     3.0       6.0   30.0  \n",
       "1       0.0     5.0       3.0    3.0     3.0       4.0   30.0  \n",
       "2       0.0     4.0       3.0    2.0     3.0      10.0   50.0  \n",
       "3       1.0     3.0       2.0    2.0     5.0       2.0   75.0  \n",
       "4       0.0     4.0       3.0    2.0     5.0       4.0   50.0  \n",
       "5       0.0     5.0       4.0    2.0     5.0      10.0   75.0  \n",
       "6       0.0     4.0       4.0    4.0     3.0       0.0   55.0  \n",
       "7       0.0     4.0       1.0    4.0     1.0       6.0   30.0  \n",
       "8       0.0     5.0       2.0    2.0     1.0       0.0   95.0  \n",
       "9       0.0     5.0       5.0    1.0     5.0       0.0   75.0  "
      ]
     },
     "metadata": {},
     "output_type": "display_data"
    },
    {
     "name": "stdout",
     "output_type": "stream",
     "text": [
      "<class 'pandas.core.frame.DataFrame'>\n",
      "Int64Index: 389 entries, 0 to 394\n",
      "Data columns (total 30 columns):\n",
      "school_number       389 non-null int64\n",
      "sex_male            389 non-null int64\n",
      "age                 389 non-null int64\n",
      "urbanite            389 non-null float64\n",
      "famsize_more3       389 non-null float64\n",
      "Pstatus_together    389 non-null float64\n",
      "Medu                389 non-null float64\n",
      "Fedu                389 non-null float64\n",
      "кол-во              389 non-null int64\n",
      "Mjob                389 non-null float64\n",
      "Fjob                389 non-null float64\n",
      "reason              389 non-null float64\n",
      "guardian            389 non-null float64\n",
      "traveltime          389 non-null float64\n",
      "studytime           389 non-null float64\n",
      "failures            389 non-null float64\n",
      "schoolsup           389 non-null float64\n",
      "famsup              389 non-null float64\n",
      "paid                389 non-null float64\n",
      "activities          389 non-null float64\n",
      "nursery             389 non-null float64\n",
      "higher              389 non-null float64\n",
      "internet            389 non-null float64\n",
      "romantic            389 non-null float64\n",
      "famrel              389 non-null float64\n",
      "freetime            389 non-null float64\n",
      "goout               389 non-null float64\n",
      "health              389 non-null float64\n",
      "absences            389 non-null float64\n",
      "score               389 non-null float64\n",
      "dtypes: float64(26), int64(4)\n",
      "memory usage: 94.2 KB\n"
     ]
    }
   ],
   "source": [
    "display(stud_math.head(10))\n",
    "stud_math.info()"
   ]
  },
  {
   "cell_type": "markdown",
   "metadata": {},
   "source": [
    "Первичная обработка проведена: Общее количество колонок-признаков 30, 27 номинативные и 3 числовых ('age','absences','score'). Все номинативные значения были заменены на числовые, для дальнейшего анализа. Для каждой отдельной колонки были использованы различные методы замены NaN, исходя из зависимости от тех или иных фаткоров. Доля пропусков составила не более 10%. Была удалена колонка \"studytime granular\", тк она коррелировалась с колонкой \"studytime\" и была избыточной. Были удалены строки, где пропущено значение score, т.к. восстанавливать целевое значение не корректно и данных пропусков всего 1.5% от общей доли значений. Имеется значение 0 у колонки \"score\", вероятно это ученики не набравшие минимальные баллы либо пропустили экзамен. Осталось 29 колонок и 389 записей\n"
   ]
  },
  {
   "cell_type": "markdown",
   "metadata": {},
   "source": [
    "# Корреляционный анализ данных"
   ]
  },
  {
   "cell_type": "code",
   "execution_count": 186,
   "metadata": {},
   "outputs": [
    {
     "data": {
      "text/html": [
       "<div>\n",
       "<style scoped>\n",
       "    .dataframe tbody tr th:only-of-type {\n",
       "        vertical-align: middle;\n",
       "    }\n",
       "\n",
       "    .dataframe tbody tr th {\n",
       "        vertical-align: top;\n",
       "    }\n",
       "\n",
       "    .dataframe thead th {\n",
       "        text-align: right;\n",
       "    }\n",
       "</style>\n",
       "<table border=\"1\" class=\"dataframe\">\n",
       "  <thead>\n",
       "    <tr style=\"text-align: right;\">\n",
       "      <th></th>\n",
       "      <th>age</th>\n",
       "      <th>absences</th>\n",
       "      <th>score</th>\n",
       "    </tr>\n",
       "  </thead>\n",
       "  <tbody>\n",
       "    <tr>\n",
       "      <td>age</td>\n",
       "      <td>1.000000</td>\n",
       "      <td>0.186277</td>\n",
       "      <td>-0.155726</td>\n",
       "    </tr>\n",
       "    <tr>\n",
       "      <td>absences</td>\n",
       "      <td>0.186277</td>\n",
       "      <td>1.000000</td>\n",
       "      <td>0.029796</td>\n",
       "    </tr>\n",
       "    <tr>\n",
       "      <td>score</td>\n",
       "      <td>-0.155726</td>\n",
       "      <td>0.029796</td>\n",
       "      <td>1.000000</td>\n",
       "    </tr>\n",
       "  </tbody>\n",
       "</table>\n",
       "</div>"
      ],
      "text/plain": [
       "               age  absences     score\n",
       "age       1.000000  0.186277 -0.155726\n",
       "absences  0.186277  1.000000  0.029796\n",
       "score    -0.155726  0.029796  1.000000"
      ]
     },
     "execution_count": 186,
     "metadata": {},
     "output_type": "execute_result"
    }
   ],
   "source": [
    "#проведем корреляционный анализ количественных переменных\n",
    "\n",
    "stud_math[['age','absences','score']].corr()"
   ]
  },
  {
   "cell_type": "markdown",
   "metadata": {},
   "source": [
    "из корреляции видно что статистически значима только колонка, отображающая возраст ученика, чем старше ученик тем ниже вероятность получить высокие баллы в среднем"
   ]
  },
  {
   "cell_type": "code",
   "execution_count": 188,
   "metadata": {},
   "outputs": [
    {
     "name": "stdout",
     "output_type": "stream",
     "text": [
      "Найдены статистически значимые различия для колонки urbanite\n",
      "Найдены статистически значимые различия для колонки Medu\n",
      "Найдены статистически значимые различия для колонки Mjob\n",
      "Найдены статистически значимые различия для колонки failures\n",
      "Найдены статистически значимые различия для колонки higher\n",
      "Найдены статистически значимые различия для колонки romantic\n"
     ]
    }
   ],
   "source": [
    "#Проверим, есть ли статистическая разница в распределении оценок по номинативным признакам, с помощью теста Стьюдента. \n",
    "#Проверим нулевую гипотезу о том, что распределения оценок учеников по различным параметрам неразличимы:\n",
    "\n",
    "for col in ['school_number', 'sex_male', 'urbanite', 'famsize_more3', 'Pstatus_together', 'Medu',\n",
    "            'Fedu','Mjob', 'Fjob', 'reason', 'guardian', 'traveltime', 'studytime','failures',\n",
    "            'schoolsup','famsup', 'paid', 'activities', 'nursery','higher','internet','romantic',\n",
    "            'famrel','freetime','goout', 'health']:\n",
    "    get_stat_dif(col)"
   ]
  },
  {
   "cell_type": "markdown",
   "metadata": {},
   "source": [
    "Как мы видим (и согласно статистическим данным и исходя из графиков выше), серьёзно отличаются 9 параметров,: urbanite,  Medu и Mjob, failures, paid, higher, internet, romantic и age, которые, возможно, оказывают влияние на экзаменационную оценку учеников. Оставим эти переменные в датасете для дальнейшего построения модели."
   ]
  },
  {
   "cell_type": "code",
   "execution_count": 113,
   "metadata": {
    "scrolled": true
   },
   "outputs": [
    {
     "data": {
      "text/html": [
       "<div>\n",
       "<style scoped>\n",
       "    .dataframe tbody tr th:only-of-type {\n",
       "        vertical-align: middle;\n",
       "    }\n",
       "\n",
       "    .dataframe tbody tr th {\n",
       "        vertical-align: top;\n",
       "    }\n",
       "\n",
       "    .dataframe thead th {\n",
       "        text-align: right;\n",
       "    }\n",
       "</style>\n",
       "<table border=\"1\" class=\"dataframe\">\n",
       "  <thead>\n",
       "    <tr style=\"text-align: right;\">\n",
       "      <th></th>\n",
       "      <th>urbanite</th>\n",
       "      <th>Medu</th>\n",
       "      <th>Mjob</th>\n",
       "      <th>failures</th>\n",
       "      <th>paid</th>\n",
       "      <th>higher</th>\n",
       "      <th>internet</th>\n",
       "      <th>romantic</th>\n",
       "      <th>age</th>\n",
       "      <th>score</th>\n",
       "    </tr>\n",
       "  </thead>\n",
       "  <tbody>\n",
       "    <tr>\n",
       "      <td>0</td>\n",
       "      <td>1.0</td>\n",
       "      <td>4.0</td>\n",
       "      <td>4.0</td>\n",
       "      <td>0.0</td>\n",
       "      <td>0.0</td>\n",
       "      <td>1.0</td>\n",
       "      <td>0.0</td>\n",
       "      <td>0.0</td>\n",
       "      <td>18</td>\n",
       "      <td>30.0</td>\n",
       "    </tr>\n",
       "    <tr>\n",
       "      <td>1</td>\n",
       "      <td>1.0</td>\n",
       "      <td>1.0</td>\n",
       "      <td>4.0</td>\n",
       "      <td>0.0</td>\n",
       "      <td>0.0</td>\n",
       "      <td>1.0</td>\n",
       "      <td>1.0</td>\n",
       "      <td>0.0</td>\n",
       "      <td>17</td>\n",
       "      <td>30.0</td>\n",
       "    </tr>\n",
       "    <tr>\n",
       "      <td>2</td>\n",
       "      <td>1.0</td>\n",
       "      <td>1.0</td>\n",
       "      <td>4.0</td>\n",
       "      <td>3.0</td>\n",
       "      <td>1.0</td>\n",
       "      <td>1.0</td>\n",
       "      <td>1.0</td>\n",
       "      <td>0.0</td>\n",
       "      <td>15</td>\n",
       "      <td>50.0</td>\n",
       "    </tr>\n",
       "    <tr>\n",
       "      <td>3</td>\n",
       "      <td>1.0</td>\n",
       "      <td>4.0</td>\n",
       "      <td>2.0</td>\n",
       "      <td>0.0</td>\n",
       "      <td>1.0</td>\n",
       "      <td>1.0</td>\n",
       "      <td>1.0</td>\n",
       "      <td>1.0</td>\n",
       "      <td>15</td>\n",
       "      <td>75.0</td>\n",
       "    </tr>\n",
       "    <tr>\n",
       "      <td>4</td>\n",
       "      <td>1.0</td>\n",
       "      <td>3.0</td>\n",
       "      <td>5.0</td>\n",
       "      <td>0.0</td>\n",
       "      <td>1.0</td>\n",
       "      <td>1.0</td>\n",
       "      <td>0.0</td>\n",
       "      <td>0.0</td>\n",
       "      <td>16</td>\n",
       "      <td>50.0</td>\n",
       "    </tr>\n",
       "  </tbody>\n",
       "</table>\n",
       "</div>"
      ],
      "text/plain": [
       "   urbanite  Medu  Mjob  failures  paid  higher  internet  romantic  age  \\\n",
       "0       1.0   4.0   4.0       0.0   0.0     1.0       0.0       0.0   18   \n",
       "1       1.0   1.0   4.0       0.0   0.0     1.0       1.0       0.0   17   \n",
       "2       1.0   1.0   4.0       3.0   1.0     1.0       1.0       0.0   15   \n",
       "3       1.0   4.0   2.0       0.0   1.0     1.0       1.0       1.0   15   \n",
       "4       1.0   3.0   5.0       0.0   1.0     1.0       0.0       0.0   16   \n",
       "\n",
       "   score  \n",
       "0   30.0  \n",
       "1   30.0  \n",
       "2   50.0  \n",
       "3   75.0  \n",
       "4   50.0  "
      ]
     },
     "execution_count": 113,
     "metadata": {},
     "output_type": "execute_result"
    }
   ],
   "source": [
    "stud_math_for_model = stud_math.loc[:, ['urbanite', 'Medu', 'Mjob', 'failures', 'paid',\n",
    "                                        'higher', 'internet', 'romantic', 'age', 'score']]\n",
    "stud_math_for_model.head()"
   ]
  },
  {
   "cell_type": "markdown",
   "metadata": {},
   "source": [
    "# В результате анализа влияния условий жизни учеников на успеваемость по математике (а именно, на финальный экзамен) были получены следующие выводы:\n",
    "## В данных достаточно мало пустых значений, менее 11%\n",
    "## В данных много номинативных признаков, которые имели четкие границы и варианты ответов, что значительно сократило количество выбросов. Данные достаточно чистые.\n",
    "## В значимых колонках (баллы учеников) имелись пустые значения, которые пришлось исключить из анализа, исключение составило только 1.5%;\n",
    "## Самые важные параметры, которые предлагается использовать в дальнейшем для построения модели, это 'urbanite', 'Medu', 'Mjob', 'failures', 'paid', 'higher', 'internet', 'romantic', 'age', 'score'.\n"
   ]
  }
 ],
 "metadata": {
  "kernelspec": {
   "display_name": "Python 3",
   "language": "python",
   "name": "python3"
  },
  "language_info": {
   "codemirror_mode": {
    "name": "ipython",
    "version": 3
   },
   "file_extension": ".py",
   "mimetype": "text/x-python",
   "name": "python",
   "nbconvert_exporter": "python",
   "pygments_lexer": "ipython3",
   "version": "3.7.4"
  }
 },
 "nbformat": 4,
 "nbformat_minor": 2
}
